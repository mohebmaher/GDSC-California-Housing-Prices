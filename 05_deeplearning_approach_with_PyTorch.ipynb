{
 "cells": [
  {
   "cell_type": "markdown",
   "id": "fd96db9a-0e0f-44f0-9a13-15482a5a09be",
   "metadata": {},
   "source": [
    "# Part #05: A Deep Learning Approach using PyTorch"
   ]
  },
  {
   "cell_type": "markdown",
   "id": "4206f7fa-2af6-4100-b6d6-68d62bff0cf4",
   "metadata": {},
   "source": [
    "## This part is still UNDER CONSTRUCTION!"
   ]
  },
  {
   "cell_type": "code",
   "execution_count": null,
   "id": "009aea3d-e21a-4a17-8ce9-4a4ab095dc80",
   "metadata": {},
   "outputs": [],
   "source": []
  }
 ],
 "metadata": {
  "kernelspec": {
   "display_name": "Data-Playground",
   "language": "python",
   "name": "data-playground"
  },
  "language_info": {
   "codemirror_mode": {
    "name": "ipython",
    "version": 3
   },
   "file_extension": ".py",
   "mimetype": "text/x-python",
   "name": "python",
   "nbconvert_exporter": "python",
   "pygments_lexer": "ipython3",
   "version": "3.11.3"
  }
 },
 "nbformat": 4,
 "nbformat_minor": 5
}
