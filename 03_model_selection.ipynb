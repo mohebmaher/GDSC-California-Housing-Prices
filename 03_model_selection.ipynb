{
 "cells": [
  {
   "cell_type": "markdown",
   "id": "192093ff-fdd3-4437-982d-5cef59e4fa3e",
   "metadata": {},
   "source": [
    "# Part #03: Model Salection"
   ]
  },
  {
   "cell_type": "markdown",
   "id": "372cb8f1-92e0-4d75-a00b-faaf4b1d844f",
   "metadata": {},
   "source": [
    "## Step #01: Selecting the Right Model(s)"
   ]
  },
  {
   "cell_type": "markdown",
   "id": "f6aa859c-1822-4f4d-900e-820438287858",
   "metadata": {},
   "source": [
    "### Set up the workspace"
   ]
  },
  {
   "cell_type": "code",
   "execution_count": 1,
   "id": "213f3f0c-4922-444c-a354-92853d361dd1",
   "metadata": {
    "tags": []
   },
   "outputs": [],
   "source": [
    "import pickle\n",
    "import matplotlib.pyplot as plt\n",
    "%matplotlib inline\n",
    "import numpy as np\n",
    "import pandas as pd\n",
    "import seaborn as sns\n",
    "sns.set()\n",
    "from sklearn.dummy import DummyRegressor\n",
    "from sklearn.ensemble import AdaBoostRegressor, RandomForestRegressor\n",
    "from sklearn.linear_model import LinearRegression\n",
    "from sklearn.metrics import make_scorer, mean_squared_error, r2_score\n",
    "from sklearn.model_selection import cross_val_score, KFold\n",
    "from sklearn.neighbors import KNeighborsRegressor\n",
    "from sklearn.tree import DecisionTreeRegressor\n",
    "from xgboost import XGBRegressor"
   ]
  },
  {
   "cell_type": "code",
   "execution_count": 2,
   "id": "7f48152e-a2b5-4422-a480-f2937977d62f",
   "metadata": {
    "tags": []
   },
   "outputs": [],
   "source": [
    "# Read the results from the previous section:\n",
    "with open(\"./assets/preprocessing_results.pkl\", mode=\"rb\") as file_bin:\n",
    "    resulst = pickle.load(file_bin)"
   ]
  },
  {
   "cell_type": "code",
   "execution_count": 3,
   "id": "f9d721d4-3bd6-44ea-8287-6a0b1fa5ca13",
   "metadata": {
    "tags": []
   },
   "outputs": [],
   "source": [
    "# Unpack train and test sets:\n",
    "feature_names, X_train, X_test, y_train, y_test = resulst.values()"
   ]
  },
  {
   "cell_type": "markdown",
   "id": "4dbeb15a-e94e-41fa-9f7a-fbc6cb678c2d",
   "metadata": {},
   "source": [
    "### Find a good candidate(s) for the problem at hand"
   ]
  },
  {
   "cell_type": "markdown",
   "id": "c15f5441-44a6-44dc-b7f1-0c8cf5967120",
   "metadata": {},
   "source": [
    "- Often the hardest part of solving a machine learning problem can be finding the right estimator for the job.\n",
    "- Different estimators are better suited for different types of data and different problems.\n",
    "- This **[flowchart](https://scikit-learn.org/stable/tutorial/machine_learning_map/index.html)** is designed to give users a bit of a rough guide on how to approach problems with regard to which estimators to try on your data."
   ]
  },
  {
   "cell_type": "code",
   "execution_count": 4,
   "id": "ab68b151-fb3b-4b29-b846-b0ff1cc1601d",
   "metadata": {
    "tags": []
   },
   "outputs": [],
   "source": [
    "# Instantiate a dummy regressor for baseline comparison:\n",
    "dummy_reg = DummyRegressor()"
   ]
  },
  {
   "cell_type": "code",
   "execution_count": 5,
   "id": "c1f624d1-c240-49ec-97f7-217b3b75fe17",
   "metadata": {
    "tags": []
   },
   "outputs": [],
   "source": [
    "# Instantiate some candidate models:\n",
    "linear_reg = LinearRegression()\n",
    "knn_reg = KNeighborsRegressor()\n",
    "tree_reg = DecisionTreeRegressor()\n",
    "adaboost_tree_reg = AdaBoostRegressor(DecisionTreeRegressor())\n",
    "random_forest_reg = RandomForestRegressor()\n",
    "xgb_reg = XGBRegressor()"
   ]
  },
  {
   "cell_type": "markdown",
   "id": "769ad5d8-995d-46eb-ab05-3c519db54037",
   "metadata": {},
   "source": [
    "## Step #02: Selecting a Scoring Function(s)"
   ]
  },
  {
   "cell_type": "code",
   "execution_count": 6,
   "id": "92f3590d-54aa-4942-874a-6a4e76380b28",
   "metadata": {
    "tags": []
   },
   "outputs": [],
   "source": [
    "# Define scoring function(s):\n",
    "r2 = make_scorer(r2_score, greater_is_better=True)\n",
    "rmse = make_scorer(mean_squared_error, greater_is_better=False, squared=False)"
   ]
  },
  {
   "cell_type": "markdown",
   "id": "57e362e7-862b-4764-b3a9-0d0676f0f866",
   "metadata": {},
   "source": [
    "## Step #03: Compare Different Models by Cross-Validation"
   ]
  },
  {
   "cell_type": "markdown",
   "id": "7ba70861-4cfc-48b8-8a1c-eb53abd45284",
   "metadata": {},
   "source": [
    "- Learning the parameters of a prediction function and testing it on the same data is a methodological mistake: a model that would just repeat the labels of the samples that it has just seen would have a perfect score but would fail to predict anything useful on yet-unseen data.\n",
    "- A solution to this problem is a procedure called cross-validation (CV for short)."
   ]
  },
  {
   "cell_type": "markdown",
   "id": "a1c0eb5f-eca1-4091-b0cd-792f8558a71a",
   "metadata": {},
   "source": [
    "- Compare using R-squared:"
   ]
  },
  {
   "cell_type": "code",
   "execution_count": 7,
   "id": "6898ab7a-b04f-4dcc-939d-5c7ed9b44e81",
   "metadata": {
    "tags": []
   },
   "outputs": [
    {
     "name": "stdout",
     "output_type": "stream",
     "text": [
      "Validating dummy_reg...\n",
      "Validating dummy_reg done in 0.00 minutes!\n",
      "\n",
      "Validating linear_reg...\n",
      "Validating linear_reg done in 0.00 minutes!\n",
      "\n",
      "Validating knn_reg...\n",
      "Validating knn_reg done in 0.05 minutes!\n",
      "\n",
      "Validating tree_reg...\n",
      "Validating tree_reg done in 0.03 minutes!\n",
      "\n",
      "Validating adaboost_tree_reg...\n",
      "Validating adaboost_tree_reg done in 1.60 minutes!\n",
      "\n",
      "Validating random_forest_reg...\n",
      "Validating random_forest_reg done in 4.18 minutes!\n",
      "\n",
      "Validating xgb_reg...\n",
      "Validating xgb_reg done in 0.17 minutes!\n",
      "\n",
      "                      min    mean     max\n",
      "dummy_reg          -0.09%  -0.04%  -0.02%\n",
      "linear_reg         59.12%  59.39%  59.91%\n",
      "knn_reg            68.32%  69.20%  70.79%\n",
      "tree_reg           64.98%  65.78%  66.84%\n",
      "adaboost_tree_reg  80.29%  81.73%  83.62%\n",
      "random_forest_reg  80.27%  81.77%  83.55%\n",
      "xgb_reg            81.34%  82.80%  84.29%\n",
      "\n",
      "\n",
      "CPU times: total: 6min 19s\n",
      "Wall time: 6min 4s\n"
     ]
    },
    {
     "data": {
      "image/png": "[encoded data removed]",
      "text/plain": [
       "<Figure size 900x600 with 1 Axes>"
      ]
     },
     "metadata": {},
     "output_type": "display_data"
    }
   ],
   "source": [
    "%%time\n",
    "# Compare different models:\n",
    "%run \"./recipes/compare_models.py\";\n",
    "results = compare_models(\n",
    "    X_train,\n",
    "    y_train,\n",
    "    r2,\n",
    "    cv=5,\n",
    "    dummy_reg=dummy_reg,\n",
    "    linear_reg=linear_reg,\n",
    "    knn_reg=knn_reg,\n",
    "    tree_reg=tree_reg,\n",
    "    adaboost_tree_reg=adaboost_tree_reg,\n",
    "    random_forest_reg=random_forest_reg,\n",
    "    xgb_reg=xgb_reg\n",
    ");"
   ]
  },
  {
   "cell_type": "markdown",
   "id": "e9f1074c-8c61-4308-a55f-0fc56b30b343",
   "metadata": {},
   "source": [
    "- Compare using RMSE (results are correlated with R-squared but more interpretable):"
   ]
  },
  {
   "cell_type": "code",
   "execution_count": 8,
   "id": "5c01d557-9503-46a5-875c-1ce053b9849a",
   "metadata": {},
   "outputs": [
    {
     "name": "stdout",
     "output_type": "stream",
     "text": [
      "Validating dummy_reg...\n",
      "Validating dummy_reg done in 0.00 minutes!\n",
      "\n",
      "Validating linear_reg...\n",
      "Validating linear_reg done in 0.00 minutes!\n",
      "\n",
      "Validating knn_reg...\n",
      "Validating knn_reg done in 0.05 minutes!\n",
      "\n",
      "Validating tree_reg...\n",
      "Validating tree_reg done in 0.03 minutes!\n",
      "\n",
      "Validating adaboost_tree_reg...\n",
      "Validating adaboost_tree_reg done in 1.58 minutes!\n",
      "\n",
      "Validating random_forest_reg...\n",
      "Validating random_forest_reg done in 4.20 minutes!\n",
      "\n",
      "Validating xgb_reg...\n",
      "Validating xgb_reg done in 0.17 minutes!\n",
      "\n",
      "                             min           mean            max\n",
      "dummy_reg          -11747794.53%  -11548759.53%  -11399415.62%\n",
      "linear_reg          -7503436.72%   -7358249.06%   -7261819.53%\n",
      "knn_reg             -6611489.84%   -6407555.86%   -6228701.56%\n",
      "tree_reg            -7000389.76%   -6779454.49%   -6623698.69%\n",
      "adaboost_tree_reg   -5233214.48%   -4946232.60%   -4760378.11%\n",
      "random_forest_reg   -5204694.29%   -4918385.37%   -4660594.37%\n",
      "xgb_reg             -5073558.20%   -4787796.88%   -4567394.14%\n",
      "\n",
      "\n",
      "CPU times: total: 6min 16s\n",
      "Wall time: 6min 5s\n"
     ]
    },
    {
     "data": {
      "text/plain": [
       "<Figure size 640x480 with 0 Axes>"
      ]
     },
     "metadata": {},
     "output_type": "display_data"
    },
    {
     "data": {
      "image/png": "[encoded data removed]",
      "text/plain": [
       "<Figure size 900x600 with 1 Axes>"
      ]
     },
     "metadata": {},
     "output_type": "display_data"
    }
   ],
   "source": [
    "%%time\n",
    "# Compare different models:\n",
    "%run \"./recipes/compare_models.py\";\n",
    "results = compare_models(\n",
    "    X_train,\n",
    "    y_train,\n",
    "    rmse,\n",
    "    cv=5,\n",
    "    dummy_reg=dummy_reg,\n",
    "    linear_reg=linear_reg,\n",
    "    knn_reg=knn_reg,\n",
    "    tree_reg=tree_reg,\n",
    "    adaboost_tree_reg=adaboost_tree_reg,\n",
    "    random_forest_reg=random_forest_reg,\n",
    "    xgb_reg=xgb_reg\n",
    ");"
   ]
  },
  {
   "cell_type": "markdown",
   "id": "c26817e6-760f-47ed-81b3-9e97b07ea3da",
   "metadata": {},
   "source": [
    "- It seems like there are three models that may suit this task:\n",
    "> - `AdaboostRegressor`,\n",
    "> - `RandomForestRegressor`,\n",
    "> - `XGBRegressor`.\n",
    "- The next step is to validate the selected model and tune its hyperparameters."
   ]
  },
  {
   "cell_type": "code",
   "execution_count": null,
   "id": "5b729bdd-5dd2-4087-825e-8e6f47319009",
   "metadata": {},
   "outputs": [],
   "source": []
  }
 ],
 "metadata": {
  "kernelspec": {
   "display_name": "Data-Playground",
   "language": "python",
   "name": "data-playground"
  },
  "language_info": {
   "codemirror_mode": {
    "name": "ipython",
    "version": 3
   },
   "file_extension": ".py",
   "mimetype": "text/x-python",
   "name": "python",
   "nbconvert_exporter": "python",
   "pygments_lexer": "ipython3",
   "version": "3.11.3"
  }
 },
 "nbformat": 4,
 "nbformat_minor": 5
}
