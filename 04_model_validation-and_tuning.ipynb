{
 "cells": [
  {
   "cell_type": "markdown",
   "id": "192093ff-fdd3-4437-982d-5cef59e4fa3e",
   "metadata": {},
   "source": [
    "# Part #04: Model Validation"
   ]
  },
  {
   "cell_type": "markdown",
   "id": "372cb8f1-92e0-4d75-a00b-faaf4b1d844f",
   "metadata": {},
   "source": [
    "## Step #01: Feature Selection REVISITED!"
   ]
  },
  {
   "cell_type": "markdown",
   "id": "f6aa859c-1822-4f4d-900e-820438287858",
   "metadata": {},
   "source": [
    "### Set up the workspace"
   ]
  },
  {
   "cell_type": "code",
   "execution_count": null,
   "id": "213f3f0c-4922-444c-a354-92853d361dd1",
   "metadata": {
    "tags": []
   },
   "outputs": [],
   "source": [
    "import pickle\n",
    "import matplotlib.pyplot as plt\n",
    "%matplotlib inline\n",
    "import numpy as np\n",
    "import optuna\n",
    "import pandas as pd\n",
    "import seaborn as sns\n",
    "sns.set()\n",
    "from sklearn.metrics import make_scorer, mean_squared_error, r2_score\n",
    "from sklearn.model_selection import cross_val_score, KFold, learning_curve, RandomizedSearchCV, validation_curve\n",
    "from xgboost import XGBRegressor"
   ]
  },
  {
   "cell_type": "code",
   "execution_count": null,
   "id": "7f48152e-a2b5-4422-a480-f2937977d62f",
   "metadata": {
    "tags": []
   },
   "outputs": [],
   "source": [
    "# Read the results from before:\n",
    "with open(\"./assets/preprocessing_results.pkl\", mode=\"rb\") as file_bin:\n",
    "    resulst = pickle.load(file_bin)"
   ]
  },
  {
   "cell_type": "code",
   "execution_count": null,
   "id": "f9d721d4-3bd6-44ea-8287-6a0b1fa5ca13",
   "metadata": {
    "tags": []
   },
   "outputs": [],
   "source": [
    "# Unpack train and test sets:\n",
    "feature_names, X_train, X_test, y_train, y_test = resulst.values()"
   ]
  },
  {
   "cell_type": "markdown",
   "id": "4dbeb15a-e94e-41fa-9f7a-fbc6cb678c2d",
   "metadata": {},
   "source": [
    "### Perform backward feature elimination to exclude less important features"
   ]
  },
  {
   "cell_type": "code",
   "execution_count": null,
   "id": "b7c991b4-f53c-4cd8-b4ba-d3c261d9ca90",
   "metadata": {
    "tags": []
   },
   "outputs": [],
   "source": [
    "# Recreate the df for training & test sets:\n",
    "X_train_df = pd.DataFrame(data=X_train, columns=feature_names)\n",
    "X_test_df = pd.DataFrame(data=X_test, columns=feature_names)"
   ]
  },
  {
   "cell_type": "code",
   "execution_count": null,
   "id": "c1f624d1-c240-49ec-97f7-217b3b75fe17",
   "metadata": {
    "tags": []
   },
   "outputs": [],
   "source": [
    "# Instantiate a candidate model:\n",
    "xgb_reg = XGBRegressor()"
   ]
  },
  {
   "cell_type": "code",
   "execution_count": null,
   "id": "0292c312-a4e8-49cf-8630-d8fb73e68762",
   "metadata": {
    "tags": []
   },
   "outputs": [],
   "source": [
    "# Define a scoring function(s):\n",
    "r2 = make_scorer(r2_score, greater_is_better=True)\n",
    "rmse = make_scorer(mean_squared_error, greater_is_better=False, squared=False)"
   ]
  },
  {
   "cell_type": "code",
   "execution_count": null,
   "id": "b2cd4a22-9d75-4e04-8acc-5d81da95beef",
   "metadata": {
    "tags": []
   },
   "outputs": [],
   "source": [
    "%%time\n",
    "# Compare different features:\n",
    "%run \"./recipes/compare_features.py\";\n",
    "results = compare_features(xgb_reg, X_train_df, y_train, r2, cv=10);"
   ]
  },
  {
   "cell_type": "code",
   "execution_count": null,
   "id": "296a9639-dc68-45c9-94f7-ab67672dd140",
   "metadata": {
    "tags": []
   },
   "outputs": [],
   "source": [
    "# Determine irrelevant features:\n",
    "n_features = 6\n",
    "irrelevant_features = [f for f in results.index[:n_features] if f != \"current_performance\"]\n",
    "irrelevant_features"
   ]
  },
  {
   "cell_type": "code",
   "execution_count": null,
   "id": "c1a97a18-6f94-4730-9933-164009c9c352",
   "metadata": {
    "tags": []
   },
   "outputs": [],
   "source": [
    "# Drop irrelevant features:\n",
    "X_train_df = X_train_df.drop(irrelevant_features, axis=1)"
   ]
  },
  {
   "cell_type": "code",
   "execution_count": null,
   "id": "d87326e0-5406-492c-9c90-3796bb36f4a8",
   "metadata": {
    "tags": []
   },
   "outputs": [],
   "source": [
    "%%time\n",
    "# Compare remaining features:\n",
    "%run \"./recipes/compare_features.py\";\n",
    "results = compare_features(xgb_reg, X_train_df, y_train, r2, cv=10);"
   ]
  },
  {
   "cell_type": "code",
   "execution_count": null,
   "id": "fc570ea5-0dd3-4984-b0cb-6c9ba6f12f8d",
   "metadata": {
    "tags": []
   },
   "outputs": [],
   "source": [
    "# Drop irrelevant features from test set:\n",
    "X_test_df = X_test_df.drop(irrelevant_features, axis=1)"
   ]
  },
  {
   "cell_type": "code",
   "execution_count": null,
   "id": "d3d96a52-6273-4762-bb47-1c65ee86cf60",
   "metadata": {
    "tags": []
   },
   "outputs": [],
   "source": [
    "# Convert train and test set into numpy arrays:\n",
    "X_train = X_train_df.to_numpy(dtype=np.float32)\n",
    "X_test = X_test_df.to_numpy(dtype=np.float32)"
   ]
  },
  {
   "cell_type": "code",
   "execution_count": null,
   "id": "96d89dec-f82d-45d1-b125-e121b0eb6a30",
   "metadata": {},
   "outputs": [],
   "source": [
    "# Save feature names for later:\n",
    "feature_names = X_train_df.columns.tolist()"
   ]
  },
  {
   "cell_type": "markdown",
   "id": "769ad5d8-995d-46eb-ab05-3c519db54037",
   "metadata": {},
   "source": [
    "## Step #02: Plotting the Learning Curve"
   ]
  },
  {
   "cell_type": "code",
   "execution_count": null,
   "id": "0eadba4a-0a1d-4607-828f-7ee78534891c",
   "metadata": {
    "tags": []
   },
   "outputs": [],
   "source": [
    "%%time\n",
    "# Perform CV on different sample sizes:\n",
    "train_sizes, train_scores, test_scores = learning_curve(\n",
    "    xgb_reg,\n",
    "    X_train,\n",
    "    y_train,\n",
    "    train_sizes=np.linspace(start=0.2, stop=1.0, num=5),\n",
    "    cv=10,\n",
    "    scoring=r2,\n",
    "    random_state=42\n",
    ")"
   ]
  },
  {
   "cell_type": "code",
   "execution_count": null,
   "id": "8caa51bf-6c7d-4d7a-9e1d-5443181d6eb1",
   "metadata": {
    "tags": []
   },
   "outputs": [],
   "source": [
    "# Plot the learning curve:\n",
    "%run \"./recipes/plot_learning_curve.py\"\n",
    "plot_learning_curve(train_sizes, train_scores, test_scores);"
   ]
  },
  {
   "cell_type": "markdown",
   "id": "57e362e7-862b-4764-b3a9-0d0676f0f866",
   "metadata": {},
   "source": [
    "## Step #03: Plotting the Validation Curve(s)"
   ]
  },
  {
   "cell_type": "markdown",
   "id": "77212019-3acf-4680-a0b1-376cc90ed3e1",
   "metadata": {},
   "source": [
    "### Tune `max_depth`"
   ]
  },
  {
   "cell_type": "code",
   "execution_count": null,
   "id": "b93a98c4-4e06-49f9-b865-627cf4008e53",
   "metadata": {
    "tags": []
   },
   "outputs": [],
   "source": [
    "# Instantiate the model:\n",
    "xgb_reg = XGBRegressor(random_state=42);"
   ]
  },
  {
   "cell_type": "code",
   "execution_count": null,
   "id": "d75a1100-e2d0-4f1b-9c6b-fcf2365ea596",
   "metadata": {
    "tags": []
   },
   "outputs": [],
   "source": [
    "# Create range of values for the hyperparameter in question:\n",
    "max_depth = [int(x) for x in np.linspace(start=1, stop=10, num=10)]"
   ]
  },
  {
   "cell_type": "code",
   "execution_count": null,
   "id": "2129df02-ee36-4a1a-bda1-4674db4b0958",
   "metadata": {
    "tags": []
   },
   "outputs": [],
   "source": [
    "%%time\n",
    "# Perform CV using different hyperparametr values:\n",
    "train_scores, test_scores = validation_curve(\n",
    "    xgb_reg,\n",
    "    X_train,\n",
    "    y_train,\n",
    "    param_name=\"max_depth\",\n",
    "    param_range=max_depth,\n",
    "    cv=3,\n",
    "    scoring=r2\n",
    ")"
   ]
  },
  {
   "cell_type": "code",
   "execution_count": null,
   "id": "c2361d20-46f2-4dc2-a521-83407adfb081",
   "metadata": {
    "tags": []
   },
   "outputs": [],
   "source": [
    "# Plot the validation curve:\n",
    "%run \"./recipes//plot_validation_curve.py\"\n",
    "plot_validation_curve(max_depth, train_scores, test_scores)"
   ]
  },
  {
   "cell_type": "code",
   "execution_count": null,
   "id": "c5d7a50b-a6f4-4285-a5f4-ebeaa0f3fc2b",
   "metadata": {
    "tags": []
   },
   "outputs": [],
   "source": [
    "best_max_depth = max_depth[test_scores.mean(axis=1).argmax()]\n",
    "best_max_depth"
   ]
  },
  {
   "cell_type": "markdown",
   "id": "4dc79530-4496-4c79-bc8a-8fe7d1505587",
   "metadata": {},
   "source": [
    "### Tune `learning_rate`"
   ]
  },
  {
   "cell_type": "code",
   "execution_count": null,
   "id": "628678bb-d872-4b61-a99b-97a5d94cec84",
   "metadata": {
    "tags": []
   },
   "outputs": [],
   "source": [
    "# Instantiate the model:\n",
    "xgb_reg = XGBRegressor(\n",
    "    max_depth=best_max_depth,\n",
    "    random_state=42\n",
    ");"
   ]
  },
  {
   "cell_type": "code",
   "execution_count": null,
   "id": "dc4baf05-aa0b-4818-95e2-793b4652830c",
   "metadata": {
    "tags": []
   },
   "outputs": [],
   "source": [
    "# Create range of values for the hyperparameter in question:\n",
    "learning_rate = [x for x in np.linspace(start=0.01, stop=0.1, num=5)]"
   ]
  },
  {
   "cell_type": "code",
   "execution_count": null,
   "id": "443f5e5d-15db-4790-b9f3-b76515bbaf88",
   "metadata": {
    "tags": []
   },
   "outputs": [],
   "source": [
    "%%time\n",
    "# Perform CV using different hyperparametr values:\n",
    "train_scores, test_scores = validation_curve(\n",
    "    xgb_reg,\n",
    "    X_train,\n",
    "    y_train,\n",
    "    param_name=\"learning_rate\",\n",
    "    param_range=learning_rate,\n",
    "    cv=3,\n",
    "    scoring=r2\n",
    ")"
   ]
  },
  {
   "cell_type": "code",
   "execution_count": null,
   "id": "656ba5f6-4acd-4e36-b6ef-c8597ef992a4",
   "metadata": {
    "tags": []
   },
   "outputs": [],
   "source": [
    "# Plot the validation curve:\n",
    "%run \"./recipes//plot_validation_curve.py\"\n",
    "plot_validation_curve(learning_rate, train_scores, test_scores)"
   ]
  },
  {
   "cell_type": "code",
   "execution_count": null,
   "id": "e0f15ffb-cd6a-4164-8419-d5c5c7b8ae9a",
   "metadata": {
    "tags": []
   },
   "outputs": [],
   "source": [
    "best_learning_rate = learning_rate[test_scores.mean(axis=1).argmax()]\n",
    "best_learning_rate"
   ]
  },
  {
   "cell_type": "markdown",
   "id": "5c411cbc-0e9b-43b2-9f54-96af33f8c4e3",
   "metadata": {},
   "source": [
    "### Tune `n_estimators`"
   ]
  },
  {
   "cell_type": "code",
   "execution_count": null,
   "id": "a9c00f66-a311-4a24-b989-e93782e589f1",
   "metadata": {
    "tags": []
   },
   "outputs": [],
   "source": [
    "# Instantiate the model:\n",
    "xgb_reg = XGBRegressor(\n",
    "    max_depth=best_max_depth,\n",
    "    learning_rate=best_learning_rate,\n",
    "    random_state=42\n",
    ");"
   ]
  },
  {
   "cell_type": "code",
   "execution_count": null,
   "id": "bb963142-8bf1-4bed-ab30-60d85698efaf",
   "metadata": {
    "tags": []
   },
   "outputs": [],
   "source": [
    "# Create range of values for the hyperparameter in question:\n",
    "n_estimators = [int(x) for x in np.linspace(start=100, stop=1000, num=5)]"
   ]
  },
  {
   "cell_type": "code",
   "execution_count": null,
   "id": "ad369bfd-5aad-4705-89f8-b4fed4ca29cb",
   "metadata": {
    "tags": []
   },
   "outputs": [],
   "source": [
    "%%time\n",
    "# Perform CV using different hyperparametr values:\n",
    "train_scores, test_scores = validation_curve(\n",
    "    xgb_reg,\n",
    "    X_train,\n",
    "    y_train,\n",
    "    param_name=\"n_estimators\",\n",
    "    param_range=n_estimators,\n",
    "    cv=3,\n",
    "    scoring=r2\n",
    ")"
   ]
  },
  {
   "cell_type": "code",
   "execution_count": null,
   "id": "e06176b2-0d4c-4dab-ba5a-5aab41eaf2bc",
   "metadata": {
    "tags": []
   },
   "outputs": [],
   "source": [
    "# Plot the validation curve:\n",
    "%run \"./recipes//plot_validation_curve.py\"\n",
    "plot_validation_curve(n_estimators, train_scores, test_scores)"
   ]
  },
  {
   "cell_type": "code",
   "execution_count": null,
   "id": "7ceb0fd4-3050-4b43-b817-7a795ae293c5",
   "metadata": {
    "tags": []
   },
   "outputs": [],
   "source": [
    "best_n_estimators = n_estimators[test_scores.mean(axis=1).argmax()]\n",
    "best_n_estimators"
   ]
  },
  {
   "cell_type": "markdown",
   "id": "7a9f462f-3679-4044-8706-9d9eb62ba68b",
   "metadata": {},
   "source": [
    "### Tune `min_child_weight`"
   ]
  },
  {
   "cell_type": "code",
   "execution_count": null,
   "id": "a079a46e-a4b1-4e8e-b07c-a1fbe80e2bfb",
   "metadata": {
    "tags": []
   },
   "outputs": [],
   "source": [
    "# Instantiate the model:\n",
    "xgb_reg = XGBRegressor(\n",
    "    max_depth=best_max_depth,\n",
    "    learning_rate=best_learning_rate,\n",
    "    n_estimators=best_n_estimators,\n",
    "    random_state=42\n",
    ");"
   ]
  },
  {
   "cell_type": "code",
   "execution_count": null,
   "id": "148f0a2f-f8d0-4fa6-a729-26e81d36894a",
   "metadata": {},
   "outputs": [],
   "source": [
    "# Create range of values for the hyperparameter in question:\n",
    "min_child_weight = [x for x in np.linspace(start=1, stop=10, num=5)]"
   ]
  },
  {
   "cell_type": "code",
   "execution_count": null,
   "id": "7429e192-615e-47a8-a435-2446ea7d92b5",
   "metadata": {
    "tags": []
   },
   "outputs": [],
   "source": [
    "%%time\n",
    "# Perform CV using different hyperparametr values:\n",
    "train_scores, test_scores = validation_curve(\n",
    "    xgb_reg,\n",
    "    X_train,\n",
    "    y_train,\n",
    "    param_name=\"min_child_weight\",\n",
    "    param_range=min_child_weight,\n",
    "    cv=3,\n",
    "    scoring=r2\n",
    ")"
   ]
  },
  {
   "cell_type": "code",
   "execution_count": null,
   "id": "4f58479e-1a14-4d33-9e9e-81f5a3c08799",
   "metadata": {
    "tags": []
   },
   "outputs": [],
   "source": [
    "# Plot the validation curve:\n",
    "%run \"./recipes//plot_validation_curve.py\"\n",
    "plot_validation_curve(min_child_weight, train_scores, test_scores)"
   ]
  },
  {
   "cell_type": "code",
   "execution_count": null,
   "id": "a0212236-407b-4e4f-8ece-25404acaeabb",
   "metadata": {
    "tags": []
   },
   "outputs": [],
   "source": [
    "best_min_child_weight = min_child_weight[test_scores.mean(axis=1).argmax()]\n",
    "best_min_child_weight"
   ]
  },
  {
   "cell_type": "markdown",
   "id": "5ceb2c50-f525-47d2-bcac-e19c4ad18848",
   "metadata": {},
   "source": [
    "### Tune `gamma`"
   ]
  },
  {
   "cell_type": "code",
   "execution_count": null,
   "id": "7574aa77-bcb1-4dfe-88ff-677fae302222",
   "metadata": {},
   "outputs": [],
   "source": [
    "# Instantiate the model:\n",
    "xgb_reg = XGBRegressor(\n",
    "    max_depth=best_max_depth,\n",
    "    learning_rate=best_learning_rate,\n",
    "    n_estimators=best_n_estimators,\n",
    "    min_child_weight=best_min_child_weight,\n",
    "    random_state=42\n",
    ");"
   ]
  },
  {
   "cell_type": "code",
   "execution_count": null,
   "id": "606f67b0-c7a2-496e-b7ec-d3a2e49e2445",
   "metadata": {},
   "outputs": [],
   "source": [
    "# Create range of values for the hyperparameter in question:\n",
    "gamma = [x for x in np.linspace(start=0.0, stop=1.0, num=5)]"
   ]
  },
  {
   "cell_type": "code",
   "execution_count": null,
   "id": "6ab7cf6d-a84e-47d2-a9ef-2c52f403d82e",
   "metadata": {},
   "outputs": [],
   "source": [
    "%%time\n",
    "# Perform CV using different hyperparametr values:\n",
    "train_scores, test_scores = validation_curve(\n",
    "    xgb_reg,\n",
    "    X_train,\n",
    "    y_train,\n",
    "    param_name=\"gamma\",\n",
    "    param_range=gamma,\n",
    "    cv=3,\n",
    "    scoring=r2\n",
    ")"
   ]
  },
  {
   "cell_type": "code",
   "execution_count": null,
   "id": "fceda7bf-e2a7-4331-9fae-5115512659cb",
   "metadata": {},
   "outputs": [],
   "source": [
    "# Plot the validation curve:\n",
    "%run \"./recipes//plot_validation_curve.py\"\n",
    "plot_validation_curve(gamma, train_scores, test_scores)"
   ]
  },
  {
   "cell_type": "code",
   "execution_count": null,
   "id": "7a30aab5-2cf6-4042-98a7-17bc90b3bd71",
   "metadata": {},
   "outputs": [],
   "source": [
    "best_gamma = gamma[test_scores.mean(axis=1).argmax()]\n",
    "best_gamma"
   ]
  },
  {
   "cell_type": "markdown",
   "id": "8ed82942-0897-4173-8c34-b2a5e46f658e",
   "metadata": {},
   "source": [
    "### Tune `subsample`"
   ]
  },
  {
   "cell_type": "code",
   "execution_count": null,
   "id": "a0021971-0ecb-467b-9230-fc1ae7586939",
   "metadata": {},
   "outputs": [],
   "source": [
    "# Instantiate the model:\n",
    "xgb_reg = XGBRegressor(\n",
    "    max_depth=best_max_depth,\n",
    "    learning_rate=best_learning_rate,\n",
    "    n_estimators=best_n_estimators,\n",
    "    min_child_weight=best_min_child_weight,\n",
    "    gamma=best_gamma,\n",
    "    random_state=42\n",
    ");"
   ]
  },
  {
   "cell_type": "code",
   "execution_count": null,
   "id": "25132711-8e21-44b7-802d-1d11db8f5cb0",
   "metadata": {},
   "outputs": [],
   "source": [
    "# Create range of values for the hyperparameter in question:\n",
    "subsample = [x for x in np.linspace(start=0.1, stop=1.0, num=5)]"
   ]
  },
  {
   "cell_type": "code",
   "execution_count": null,
   "id": "9dde69b4-5254-4b18-819a-653db5c144a7",
   "metadata": {},
   "outputs": [],
   "source": [
    "%%time\n",
    "# Perform CV using different hyperparametr values:\n",
    "train_scores, test_scores = validation_curve(\n",
    "    xgb_reg,\n",
    "    X_train,\n",
    "    y_train,\n",
    "    param_name=\"subsample\",\n",
    "    param_range=subsample,\n",
    "    cv=3,\n",
    "    scoring=r2\n",
    ")"
   ]
  },
  {
   "cell_type": "code",
   "execution_count": null,
   "id": "4f6c1716-d3b1-49a2-bbca-af87fc307d02",
   "metadata": {},
   "outputs": [],
   "source": [
    "# Plot the validation curve:\n",
    "%run \"./recipes//plot_validation_curve.py\"\n",
    "plot_validation_curve(subsample, train_scores, test_scores)"
   ]
  },
  {
   "cell_type": "code",
   "execution_count": null,
   "id": "c9f660be-49cd-4a91-a110-b3083b7b84df",
   "metadata": {},
   "outputs": [],
   "source": [
    "best_subsample = subsample[test_scores.mean(axis=1).argmax()]\n",
    "best_subsample"
   ]
  },
  {
   "cell_type": "markdown",
   "id": "b985f4c0-58f6-4e44-b7d5-a759fe708233",
   "metadata": {},
   "source": [
    "### Tune `colsample_bytree`"
   ]
  },
  {
   "cell_type": "code",
   "execution_count": null,
   "id": "82394bda-a471-42c3-a117-070ef9378e75",
   "metadata": {},
   "outputs": [],
   "source": [
    "# Instantiate the model:\n",
    "xgb_reg = XGBRegressor(\n",
    "    max_depth=best_max_depth,\n",
    "    learning_rate=best_learning_rate,\n",
    "    n_estimators=best_n_estimators,\n",
    "    min_child_weight=best_min_child_weight,\n",
    "    gamma=best_gamma,\n",
    "    subsample=best_subsample,\n",
    "    random_state=42\n",
    ");"
   ]
  },
  {
   "cell_type": "code",
   "execution_count": null,
   "id": "e169f5d3-ea79-4522-923a-341e2717bf13",
   "metadata": {},
   "outputs": [],
   "source": [
    "# Create range of values for the hyperparameter in question:\n",
    "colsample_bytree = [x for x in np.linspace(start=0.1, stop=1.0, num=5)]"
   ]
  },
  {
   "cell_type": "code",
   "execution_count": null,
   "id": "cff54c52-81cd-4a56-8927-1326157f95be",
   "metadata": {},
   "outputs": [],
   "source": [
    "%%time\n",
    "# Perform CV using different hyperparametr values:\n",
    "train_scores, test_scores = validation_curve(\n",
    "    xgb_reg,\n",
    "    X_train,\n",
    "    y_train,\n",
    "    param_name=\"colsample_bytree\",\n",
    "    param_range=colsample_bytree,\n",
    "    cv=3,\n",
    "    scoring=r2\n",
    ")"
   ]
  },
  {
   "cell_type": "code",
   "execution_count": null,
   "id": "e62b987c-70cc-44d1-9450-efa3fba6470f",
   "metadata": {},
   "outputs": [],
   "source": [
    "# Plot the validation curve:\n",
    "%run \"./recipes//plot_validation_curve.py\"\n",
    "plot_validation_curve(colsample_bytree, train_scores, test_scores)"
   ]
  },
  {
   "cell_type": "code",
   "execution_count": null,
   "id": "c0fc2f95-268c-41df-a21e-fe17bf7988db",
   "metadata": {},
   "outputs": [],
   "source": [
    "best_colsample_bytree = colsample_bytree[test_scores.mean(axis=1).argmax()]\n",
    "best_colsample_bytree"
   ]
  },
  {
   "cell_type": "markdown",
   "id": "66cbe967-a591-4e0e-82e8-780402e832e8",
   "metadata": {},
   "source": [
    "### Tune `reg_alpha`"
   ]
  },
  {
   "cell_type": "code",
   "execution_count": null,
   "id": "7ef68147-2234-476a-ad68-f3db478b883d",
   "metadata": {},
   "outputs": [],
   "source": [
    "# Instantiate the model:\n",
    "xgb_reg = XGBRegressor(\n",
    "    max_depth=best_max_depth,\n",
    "    learning_rate=best_learning_rate,\n",
    "    n_estimators=best_n_estimators,\n",
    "    min_child_weight=best_min_child_weight,\n",
    "    gamma=best_gamma,\n",
    "    subsample=best_subsample,\n",
    "    colsample_bytree=best_colsample_bytree,\n",
    "    random_state=42\n",
    ");"
   ]
  },
  {
   "cell_type": "code",
   "execution_count": null,
   "id": "4de0987d-deb7-467e-89f9-52781bfa9011",
   "metadata": {},
   "outputs": [],
   "source": [
    "# Create range of values for the hyperparameter in question:\n",
    "reg_alpha = [x for x in np.linspace(start=0.0, stop=1.0, num=5)]"
   ]
  },
  {
   "cell_type": "code",
   "execution_count": null,
   "id": "b9bf1516-8971-4973-9486-06e24b186989",
   "metadata": {},
   "outputs": [],
   "source": [
    "%%time\n",
    "# Perform CV using different hyperparametr values:\n",
    "train_scores, test_scores = validation_curve(\n",
    "    xgb_reg,\n",
    "    X_train,\n",
    "    y_train,\n",
    "    param_name=\"reg_alpha\",\n",
    "    param_range=reg_alpha,\n",
    "    cv=3,\n",
    "    scoring=r2\n",
    ")"
   ]
  },
  {
   "cell_type": "code",
   "execution_count": null,
   "id": "957bde7f-bb16-4781-9dd3-ee6e30abe485",
   "metadata": {},
   "outputs": [],
   "source": [
    "# Plot the validation curve:\n",
    "%run \"./recipes//plot_validation_curve.py\"\n",
    "plot_validation_curve(reg_alpha, train_scores, test_scores)"
   ]
  },
  {
   "cell_type": "code",
   "execution_count": null,
   "id": "afe28104-acdc-470d-ad53-93793c7fe3ab",
   "metadata": {},
   "outputs": [],
   "source": [
    "best_reg_alpha = reg_alpha[test_scores.mean(axis=1).argmax()]\n",
    "best_reg_alpha"
   ]
  },
  {
   "cell_type": "markdown",
   "id": "5b8d2c91-fc8d-46e7-8bae-e8c9e2cca8cc",
   "metadata": {},
   "source": [
    "### Tune `reg_lambda`"
   ]
  },
  {
   "cell_type": "code",
   "execution_count": null,
   "id": "445d3568-de92-4506-b572-16ac4f673ce6",
   "metadata": {},
   "outputs": [],
   "source": [
    "# Instantiate the model:\n",
    "xgb_reg = XGBRegressor(\n",
    "    max_depth=best_max_depth,\n",
    "    learning_rate=best_learning_rate,\n",
    "    n_estimators=best_n_estimators,\n",
    "    min_child_weight=best_min_child_weight,\n",
    "    gamma=best_gamma,\n",
    "    subsample=best_subsample,\n",
    "    colsample_bytree=best_colsample_bytree,\n",
    "    reg_alpha=best_reg_alpha,\n",
    "    random_state=42\n",
    ");"
   ]
  },
  {
   "cell_type": "code",
   "execution_count": null,
   "id": "fd078cf8-b7fa-4280-9f03-1818f7d9c11e",
   "metadata": {},
   "outputs": [],
   "source": [
    "reg_lambda = [x for x in np.linspace(start=0.0, stop=1.0, num=5)]"
   ]
  },
  {
   "cell_type": "code",
   "execution_count": null,
   "id": "5b4cc7b5-630b-48b9-bd16-6b873be59bca",
   "metadata": {},
   "outputs": [],
   "source": [
    "%%time\n",
    "# Perform CV using different hyperparametr values:\n",
    "train_scores, test_scores = validation_curve(\n",
    "    xgb_reg,\n",
    "    X_train,\n",
    "    y_train,\n",
    "    param_name=\"reg_lambda\",\n",
    "    param_range=reg_lambda,\n",
    "    cv=3,\n",
    "    scoring=r2\n",
    ")"
   ]
  },
  {
   "cell_type": "code",
   "execution_count": null,
   "id": "146dec81-78e5-4b9d-9ce6-1eb6db57a053",
   "metadata": {},
   "outputs": [],
   "source": [
    "# Plot the validation curve:\n",
    "%run \"./recipes//plot_validation_curve.py\"\n",
    "plot_validation_curve(reg_lambda, train_scores, test_scores)"
   ]
  },
  {
   "cell_type": "code",
   "execution_count": null,
   "id": "410c7c0c-5929-4c62-92cc-8489e6bdbb9e",
   "metadata": {},
   "outputs": [],
   "source": [
    "best_reg_lambda = reg_lambda[test_scores.mean(axis=1).argmax()]\n",
    "best_reg_lambda"
   ]
  },
  {
   "cell_type": "markdown",
   "id": "e31e29a5-724a-414c-a471-a03704911d9e",
   "metadata": {},
   "source": [
    "### Evaluate the model using the best-found hyperparameters (flawed but intuitive approach)"
   ]
  },
  {
   "cell_type": "code",
   "execution_count": null,
   "id": "2d6db999-d48b-4042-bf39-6fad02ce7bbc",
   "metadata": {},
   "outputs": [],
   "source": [
    "# Instantiate the xgb_reg baseline model:\n",
    "xgb_reg = XGBRegressor(random_state=42);"
   ]
  },
  {
   "cell_type": "code",
   "execution_count": null,
   "id": "a4e1a52e-b3d8-44da-b5b7-e9b3534bc713",
   "metadata": {},
   "outputs": [],
   "source": [
    "# Instantiate the better xgb_reg model:\n",
    "better_xgb_reg = XGBRegressor(\n",
    "    max_depth=best_max_depth,\n",
    "    learning_rate=best_learning_rate,\n",
    "    n_estimators=best_n_estimators,\n",
    "    min_child_weight=best_min_child_weight,\n",
    "    gamma=best_gamma,\n",
    "    subsample=best_subsample,\n",
    "    colsample_bytree=best_colsample_bytree,\n",
    "    reg_alpha=best_reg_alpha,\n",
    "    reg_lambda=best_reg_lambda,\n",
    "    random_state=42\n",
    ");"
   ]
  },
  {
   "cell_type": "code",
   "execution_count": null,
   "id": "a43c6930-c316-4919-b138-5b095d2f19d3",
   "metadata": {},
   "outputs": [],
   "source": [
    "%%time\n",
    "# Compare different models:\n",
    "%run \"./recipes/compare_models.py\";\n",
    "results = compare_models(\n",
    "    X_train,\n",
    "    y_train,\n",
    "    r2,\n",
    "    cv=5,\n",
    "    xgb_reg=xgb_reg,\n",
    "    better_xgb_reg=better_xgb_reg\n",
    ");"
   ]
  },
  {
   "cell_type": "markdown",
   "id": "0fd7f0f7-b25f-4a55-9bae-088d99580faa",
   "metadata": {},
   "source": [
    "## Step #04: Tuning the Model Hyperparameters"
   ]
  },
  {
   "cell_type": "code",
   "execution_count": null,
   "id": "40f8129c-ecc1-4466-a5cc-736d28cef695",
   "metadata": {
    "tags": []
   },
   "outputs": [],
   "source": [
    "# Set optuna log level to WARNINGonly:\n",
    "optuna.logging.set_verbosity(optuna.logging.WARNING)"
   ]
  },
  {
   "cell_type": "code",
   "execution_count": null,
   "id": "33a0fd99-fddb-4d64-829f-74f09224c7a8",
   "metadata": {
    "tags": []
   },
   "outputs": [],
   "source": [
    "# Define the objective function:\n",
    "def objective(trial):\n",
    "    \n",
    "    # Define the hyperparameters:\n",
    "    params = {\n",
    "        'max_depth': trial.suggest_int('max_depth', 1, 10),\n",
    "        'learning_rate': trial.suggest_float('learning_rate', 0.01, 0.1),\n",
    "        'n_estimators': trial.suggest_int('n_estimators', 100, 1000),\n",
    "        'min_child_weight': trial.suggest_int('min_child_weight', 1, 10),\n",
    "        'gamma': trial.suggest_float('gamma', 0.0, 1.0),\n",
    "        'subsample': trial.suggest_float('subsample', 0.1, 1.0),\n",
    "        'colsample_bytree': trial.suggest_float('colsample_bytree', 0.1, 1.0),\n",
    "        'reg_alpha': trial.suggest_float('reg_alpha', 0.0, 1.0),\n",
    "        'reg_lambda': trial.suggest_float('reg_lambda', 0.0, 1.0),\n",
    "    }\n",
    "\n",
    "    # Train the model with CV:\n",
    "    xgb_reg = XGBRegressor(random_state=42, **params)\n",
    "    cv_results = cross_val_score(xgb_reg, X_train, y_train, scoring=r2, cv=3)\n",
    "\n",
    "    # Evaluate the model\n",
    "    r2_score = cv_results.mean()\n",
    "\n",
    "    return r2_score"
   ]
  },
  {
   "cell_type": "code",
   "execution_count": null,
   "id": "9c53476c-04f8-467b-9fef-32ae74aa8874",
   "metadata": {
    "tags": []
   },
   "outputs": [],
   "source": [
    "# Create a study:\n",
    "study = optuna.create_study(direction='maximize');"
   ]
  },
  {
   "cell_type": "code",
   "execution_count": null,
   "id": "e56601ec-7d7e-43c4-9a01-f8965cc7f012",
   "metadata": {
    "tags": []
   },
   "outputs": [],
   "source": [
    "%%time\n",
    "# Run the study:\n",
    "study.optimize(objective, n_trials=100)"
   ]
  },
  {
   "cell_type": "code",
   "execution_count": null,
   "id": "99276fb9-5e07-47de-b4b4-6900eaf5ed18",
   "metadata": {
    "tags": []
   },
   "outputs": [],
   "source": [
    "# Print the best parameters:\n",
    "opt_cv_best_params = study.best_params\n",
    "print(opt_cv_best_params)"
   ]
  },
  {
   "cell_type": "code",
   "execution_count": null,
   "id": "4e410d10-9fdd-46b9-932b-a8a631e24b37",
   "metadata": {
    "tags": []
   },
   "outputs": [],
   "source": [
    "# Train the model with the best parameters:\n",
    "hpefully_best_model = XGBRegressor(**opt_cv_best_params)\n",
    "hpefully_best_model.fit(X_train, y_train);"
   ]
  },
  {
   "cell_type": "code",
   "execution_count": null,
   "id": "e44e28be-0458-45b2-aad1-78ccaf5735dc",
   "metadata": {
    "tags": []
   },
   "outputs": [],
   "source": [
    "%%time\n",
    "# Compare different models:\n",
    "%run \"./recipes/compare_models.py\";\n",
    "results = compare_models(\n",
    "    X_train,\n",
    "    y_train,\n",
    "    r2,\n",
    "    cv=5,\n",
    "    xgb_reg=xgb_reg,\n",
    "    better_xgb_reg=better_xgb_reg,\n",
    "    hpefully_best_model\n",
    ");"
   ]
  },
  {
   "cell_type": "markdown",
   "id": "2878f5d1-0279-4abc-be0b-6e870e71d530",
   "metadata": {},
   "source": [
    "## Step #05: Final Model Evaluation"
   ]
  },
  {
   "cell_type": "code",
   "execution_count": null,
   "id": "39f33fcd-97f4-499e-8010-fd8343c93ad7",
   "metadata": {},
   "outputs": [],
   "source": [
    "# Instantiate the best model so far:\n",
    "best_model_so_far = XGBRegressor(**opt_cv_best_params)"
   ]
  },
  {
   "cell_type": "code",
   "execution_count": null,
   "id": "e5df1900-da5f-4de3-927a-4778d199a388",
   "metadata": {},
   "outputs": [],
   "source": [
    "# Fit the model:\n",
    "best_model_so_far.fit(X_train, y_train)"
   ]
  },
  {
   "cell_type": "code",
   "execution_count": null,
   "id": "e75c2369-6811-4cab-aede-eb75b2ea3584",
   "metadata": {},
   "outputs": [],
   "source": [
    "# Evaluate the model using r2:\n",
    "best_r2_score = r2(best_model_so_far, X_test, y_test)\n",
    "print(f\"R-squared = {best_r2_score:.2%}\")"
   ]
  },
  {
   "cell_type": "code",
   "execution_count": null,
   "id": "0b15648d-a7ef-4f86-a250-9a53e72a0a05",
   "metadata": {
    "tags": []
   },
   "outputs": [],
   "source": [
    "# Evaluate the model using rmse:\n",
    "best_rmse_score = rmse(best_model_so_far, X_test, y_test)\n",
    "print(f\"RMSE = {best_rmse_score:.2%}\")"
   ]
  },
  {
   "cell_type": "markdown",
   "id": "97d75a96-74d5-4ec6-9626-422950eabc00",
   "metadata": {},
   "source": [
    "## Step #06: Saving Results"
   ]
  },
  {
   "cell_type": "code",
   "execution_count": null,
   "id": "0334dab4-cd3c-47ae-bc66-68e89d90ece8",
   "metadata": {
    "tags": []
   },
   "outputs": [],
   "source": [
    "# Create a dictionary to hold the results:\n",
    "feature_elimination_results = {\n",
    "    \"feature_names\": feature_names,\n",
    "    \"X_train\": X_train.astype(np.float32),\n",
    "    \"X_test\": X_test.astype(np.float32),\n",
    "    \"y_train\": y_train.astype(np.float32),\n",
    "    \"y_test\": y_test.astype(np.float32)\n",
    "}"
   ]
  },
  {
   "cell_type": "code",
   "execution_count": null,
   "id": "c10c5170-5b12-49bb-af97-f25d276381d3",
   "metadata": {
    "tags": []
   },
   "outputs": [],
   "source": [
    "# Pickle the results:\n",
    "with open(\"./assets/feature_elimination_results.pkl\", mode=\"wb\") as file_bin:\n",
    "    pickle.dump(feature_elimination_results, file_bin)"
   ]
  },
  {
   "cell_type": "code",
   "execution_count": null,
   "id": "6ffbe4ad-9e81-455d-9ee6-90e993fd98ba",
   "metadata": {
    "tags": []
   },
   "outputs": [],
   "source": [
    "# Save the model:\n",
    "best_model_so_far.save_model(\"./assets/best_model_so_far.json\")"
   ]
  },
  {
   "cell_type": "code",
   "execution_count": null,
   "id": "617e6af2-e3bb-4e01-a424-e964f8b00cfb",
   "metadata": {
    "tags": []
   },
   "outputs": [],
   "source": [
    "# Load the saved model:\n",
    "saved_model = XGBRegressor()\n",
    "saved_model.load_model(\"./assets/best_model_so_far.json\");"
   ]
  },
  {
   "cell_type": "code",
   "execution_count": null,
   "id": "46f60631-dd89-41e8-8abf-e372eccfadf7",
   "metadata": {},
   "outputs": [],
   "source": []
  }
 ],
 "metadata": {
  "kernelspec": {
   "display_name": "Data-Playground",
   "language": "python",
   "name": "data-playground"
  },
  "language_info": {
   "codemirror_mode": {
    "name": "ipython",
    "version": 3
   },
   "file_extension": ".py",
   "mimetype": "text/x-python",
   "name": "python",
   "nbconvert_exporter": "python",
   "pygments_lexer": "ipython3",
   "version": "3.11.3"
  }
 },
 "nbformat": 4,
 "nbformat_minor": 5
}
