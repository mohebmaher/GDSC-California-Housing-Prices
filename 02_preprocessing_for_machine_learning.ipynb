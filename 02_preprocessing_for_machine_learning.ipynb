{
 "cells": [
  {
   "cell_type": "markdown",
   "id": "e54aec09-a13a-4f27-a326-7b1ad18983b6",
   "metadata": {},
   "source": [
    "# Part #02: Preprocessing for Machine Learning"
   ]
  },
  {
   "cell_type": "markdown",
   "id": "b49c5b96-ba08-4727-ab6a-7a24113fcbef",
   "metadata": {},
   "source": [
    "## Step #01: Exploratory Data Analysis Revisited"
   ]
  },
  {
   "cell_type": "markdown",
   "id": "0d82e14a-e33a-4030-8d6f-939e0d3f1e32",
   "metadata": {},
   "source": [
    "### Set up the workspace"
   ]
  },
  {
   "cell_type": "code",
   "execution_count": 1,
   "id": "dc2e72a7-3284-47aa-88f7-8ded4e2fad62",
   "metadata": {
    "tags": []
   },
   "outputs": [],
   "source": [
    "import pickle\n",
    "import matplotlib.pyplot as plt\n",
    "%matplotlib inline\n",
    "import numpy as np\n",
    "import pandas as pd\n",
    "import seaborn as sns\n",
    "sns.set()\n",
    "from sklearn.compose import make_column_transformer\n",
    "from sklearn.model_selection import train_test_split\n",
    "from sklearn.pipeline import make_pipeline\n",
    "from sklearn.preprocessing import FunctionTransformer, OneHotEncoder, RobustScaler"
   ]
  },
  {
   "cell_type": "markdown",
   "id": "5ef5134b-26a7-4a0b-a489-89c9bd217544",
   "metadata": {},
   "source": [
    "### Gather (or read) the data"
   ]
  },
  {
   "cell_type": "code",
   "execution_count": 2,
   "id": "b7dd0e13-b204-4d5a-845e-77f7c6782997",
   "metadata": {
    "tags": []
   },
   "outputs": [],
   "source": [
    "cal_housing_prices = pd.read_csv(\"./datasets/housing.csv\")"
   ]
  },
  {
   "cell_type": "markdown",
   "id": "b57c2c68-218e-4029-a13a-d3b5bea1a994",
   "metadata": {},
   "source": [
    "### Explore the first few rows"
   ]
  },
  {
   "cell_type": "code",
   "execution_count": 3,
   "id": "03233752-e0d5-4ba7-b52f-2d9405b19dd7",
   "metadata": {
    "tags": []
   },
   "outputs": [
    {
     "data": {
      "text/html": [
       "<div>\n",
       "<style scoped>\n",
       "    .dataframe tbody tr th:only-of-type {\n",
       "        vertical-align: middle;\n",
       "    }\n",
       "\n",
       "    .dataframe tbody tr th {\n",
       "        vertical-align: top;\n",
       "    }\n",
       "\n",
       "    .dataframe thead th {\n",
       "        text-align: right;\n",
       "    }\n",
       "</style>\n",
       "<table border=\"1\" class=\"dataframe\">\n",
       "  <thead>\n",
       "    <tr style=\"text-align: right;\">\n",
       "      <th></th>\n",
       "      <th>longitude</th>\n",
       "      <th>latitude</th>\n",
       "      <th>housing_median_age</th>\n",
       "      <th>total_rooms</th>\n",
       "      <th>total_bedrooms</th>\n",
       "      <th>population</th>\n",
       "      <th>households</th>\n",
       "      <th>median_income</th>\n",
       "      <th>median_house_value</th>\n",
       "      <th>ocean_proximity</th>\n",
       "    </tr>\n",
       "  </thead>\n",
       "  <tbody>\n",
       "    <tr>\n",
       "      <th>0</th>\n",
       "      <td>-122.23</td>\n",
       "      <td>37.88</td>\n",
       "      <td>41.0</td>\n",
       "      <td>880.0</td>\n",
       "      <td>129.0</td>\n",
       "      <td>322.0</td>\n",
       "      <td>126.0</td>\n",
       "      <td>8.3252</td>\n",
       "      <td>452600.0</td>\n",
       "      <td>NEAR BAY</td>\n",
       "    </tr>\n",
       "    <tr>\n",
       "      <th>1</th>\n",
       "      <td>-122.22</td>\n",
       "      <td>37.86</td>\n",
       "      <td>21.0</td>\n",
       "      <td>7099.0</td>\n",
       "      <td>1106.0</td>\n",
       "      <td>2401.0</td>\n",
       "      <td>1138.0</td>\n",
       "      <td>8.3014</td>\n",
       "      <td>358500.0</td>\n",
       "      <td>NEAR BAY</td>\n",
       "    </tr>\n",
       "    <tr>\n",
       "      <th>2</th>\n",
       "      <td>-122.24</td>\n",
       "      <td>37.85</td>\n",
       "      <td>52.0</td>\n",
       "      <td>1467.0</td>\n",
       "      <td>190.0</td>\n",
       "      <td>496.0</td>\n",
       "      <td>177.0</td>\n",
       "      <td>7.2574</td>\n",
       "      <td>352100.0</td>\n",
       "      <td>NEAR BAY</td>\n",
       "    </tr>\n",
       "    <tr>\n",
       "      <th>3</th>\n",
       "      <td>-122.25</td>\n",
       "      <td>37.85</td>\n",
       "      <td>52.0</td>\n",
       "      <td>1274.0</td>\n",
       "      <td>235.0</td>\n",
       "      <td>558.0</td>\n",
       "      <td>219.0</td>\n",
       "      <td>5.6431</td>\n",
       "      <td>341300.0</td>\n",
       "      <td>NEAR BAY</td>\n",
       "    </tr>\n",
       "    <tr>\n",
       "      <th>4</th>\n",
       "      <td>-122.25</td>\n",
       "      <td>37.85</td>\n",
       "      <td>52.0</td>\n",
       "      <td>1627.0</td>\n",
       "      <td>280.0</td>\n",
       "      <td>565.0</td>\n",
       "      <td>259.0</td>\n",
       "      <td>3.8462</td>\n",
       "      <td>342200.0</td>\n",
       "      <td>NEAR BAY</td>\n",
       "    </tr>\n",
       "  </tbody>\n",
       "</table>\n",
       "</div>"
      ],
      "text/plain": [
       "   longitude  latitude  housing_median_age  total_rooms  total_bedrooms   \n",
       "0    -122.23     37.88                41.0        880.0           129.0  \\\n",
       "1    -122.22     37.86                21.0       7099.0          1106.0   \n",
       "2    -122.24     37.85                52.0       1467.0           190.0   \n",
       "3    -122.25     37.85                52.0       1274.0           235.0   \n",
       "4    -122.25     37.85                52.0       1627.0           280.0   \n",
       "\n",
       "   population  households  median_income  median_house_value ocean_proximity  \n",
       "0       322.0       126.0         8.3252            452600.0        NEAR BAY  \n",
       "1      2401.0      1138.0         8.3014            358500.0        NEAR BAY  \n",
       "2       496.0       177.0         7.2574            352100.0        NEAR BAY  \n",
       "3       558.0       219.0         5.6431            341300.0        NEAR BAY  \n",
       "4       565.0       259.0         3.8462            342200.0        NEAR BAY  "
      ]
     },
     "execution_count": 3,
     "metadata": {},
     "output_type": "execute_result"
    }
   ],
   "source": [
    "cal_housing_prices.head()"
   ]
  },
  {
   "cell_type": "markdown",
   "id": "5a0672bd-2746-4a5c-911a-9ee34318332a",
   "metadata": {},
   "source": [
    "### Specify columns by data type"
   ]
  },
  {
   "cell_type": "code",
   "execution_count": 4,
   "id": "b7d9fb4f-319e-4554-98a3-2216ffa996e3",
   "metadata": {
    "tags": []
   },
   "outputs": [
    {
     "data": {
      "text/plain": [
       "'median_house_value'"
      ]
     },
     "execution_count": 4,
     "metadata": {},
     "output_type": "execute_result"
    }
   ],
   "source": [
    "target_col = \"median_house_value\"\n",
    "target_col"
   ]
  },
  {
   "cell_type": "code",
   "execution_count": 5,
   "id": "0c16b5d0-9c85-41ed-9b55-fb9c6b4d2794",
   "metadata": {
    "tags": []
   },
   "outputs": [
    {
     "data": {
      "text/plain": [
       "['ocean_proximity']"
      ]
     },
     "execution_count": 5,
     "metadata": {},
     "output_type": "execute_result"
    }
   ],
   "source": [
    "cat_cols = cal_housing_prices.select_dtypes(exclude=\"number\").columns.tolist()\n",
    "cat_cols"
   ]
  },
  {
   "cell_type": "code",
   "execution_count": 6,
   "id": "b83f9526-9b3f-4bc5-a5d5-b5b6742d448d",
   "metadata": {
    "tags": []
   },
   "outputs": [
    {
     "data": {
      "text/plain": [
       "['longitude',\n",
       " 'latitude',\n",
       " 'housing_median_age',\n",
       " 'total_rooms',\n",
       " 'total_bedrooms',\n",
       " 'population',\n",
       " 'households',\n",
       " 'median_income']"
      ]
     },
     "execution_count": 6,
     "metadata": {},
     "output_type": "execute_result"
    }
   ],
   "source": [
    "num_cols = [c for c in cal_housing_prices.columns if c not in [*cat_cols, target_col]]\n",
    "num_cols"
   ]
  },
  {
   "cell_type": "markdown",
   "id": "e482f61c-5a23-474c-be12-de060baa8226",
   "metadata": {},
   "source": [
    "### Check for missing values"
   ]
  },
  {
   "cell_type": "code",
   "execution_count": 7,
   "id": "04e6b559-14c2-41a9-ad20-b909bd935a41",
   "metadata": {
    "tags": []
   },
   "outputs": [
    {
     "data": {
      "image/png": "[encoded data removed]",
      "text/plain": [
       "<Figure size 640x480 with 1 Axes>"
      ]
     },
     "metadata": {},
     "output_type": "display_data"
    }
   ],
   "source": [
    "cal_housing_prices.isna().mean().plot.barh();"
   ]
  },
  {
   "cell_type": "markdown",
   "id": "c9f9ca3f-3a01-4bbb-a0d7-562fb61189f8",
   "metadata": {},
   "source": [
    "### Check for non-numerical features"
   ]
  },
  {
   "cell_type": "code",
   "execution_count": 8,
   "id": "32b79f7b-8eb2-4c6d-ae7d-834a8449f1ec",
   "metadata": {
    "tags": []
   },
   "outputs": [
    {
     "data": {
      "text/plain": [
       "ocean_proximity\n",
       "<1H OCEAN          44.26\n",
       "INLAND             31.74\n",
       "NEAR OCEAN         12.88\n",
       "NEAR BAY           11.09\n",
       "ISLAND              0.02\n",
       "Name: proportion, dtype: float64"
      ]
     },
     "execution_count": 8,
     "metadata": {},
     "output_type": "execute_result"
    }
   ],
   "source": [
    "cal_housing_prices[cat_cols].value_counts(normalize=True).round(4) * 100"
   ]
  },
  {
   "cell_type": "markdown",
   "id": "f625f388-2140-4548-9816-f0c22d27a67e",
   "metadata": {},
   "source": [
    "### Check for distribution and outliers in numerical featues"
   ]
  },
  {
   "cell_type": "code",
   "execution_count": 9,
   "id": "cabe04c3-050e-4903-bf0d-c19f30e3533a",
   "metadata": {
    "tags": []
   },
   "outputs": [
    {
     "data": {
      "text/html": [
       "<div>\n",
       "<style scoped>\n",
       "    .dataframe tbody tr th:only-of-type {\n",
       "        vertical-align: middle;\n",
       "    }\n",
       "\n",
       "    .dataframe tbody tr th {\n",
       "        vertical-align: top;\n",
       "    }\n",
       "\n",
       "    .dataframe thead th {\n",
       "        text-align: right;\n",
       "    }\n",
       "</style>\n",
       "<table border=\"1\" class=\"dataframe\">\n",
       "  <thead>\n",
       "    <tr style=\"text-align: right;\">\n",
       "      <th></th>\n",
       "      <th>count</th>\n",
       "      <th>mean</th>\n",
       "      <th>std</th>\n",
       "      <th>min</th>\n",
       "      <th>25%</th>\n",
       "      <th>50%</th>\n",
       "      <th>75%</th>\n",
       "      <th>max</th>\n",
       "    </tr>\n",
       "  </thead>\n",
       "  <tbody>\n",
       "    <tr>\n",
       "      <th>longitude</th>\n",
       "      <td>20640.0</td>\n",
       "      <td>-119.569704</td>\n",
       "      <td>2.003532</td>\n",
       "      <td>-124.3500</td>\n",
       "      <td>-121.8000</td>\n",
       "      <td>-118.4900</td>\n",
       "      <td>-118.01000</td>\n",
       "      <td>-114.3100</td>\n",
       "    </tr>\n",
       "    <tr>\n",
       "      <th>latitude</th>\n",
       "      <td>20640.0</td>\n",
       "      <td>35.631861</td>\n",
       "      <td>2.135952</td>\n",
       "      <td>32.5400</td>\n",
       "      <td>33.9300</td>\n",
       "      <td>34.2600</td>\n",
       "      <td>37.71000</td>\n",
       "      <td>41.9500</td>\n",
       "    </tr>\n",
       "    <tr>\n",
       "      <th>housing_median_age</th>\n",
       "      <td>20640.0</td>\n",
       "      <td>28.639486</td>\n",
       "      <td>12.585558</td>\n",
       "      <td>1.0000</td>\n",
       "      <td>18.0000</td>\n",
       "      <td>29.0000</td>\n",
       "      <td>37.00000</td>\n",
       "      <td>52.0000</td>\n",
       "    </tr>\n",
       "    <tr>\n",
       "      <th>total_rooms</th>\n",
       "      <td>20640.0</td>\n",
       "      <td>2635.763081</td>\n",
       "      <td>2181.615252</td>\n",
       "      <td>2.0000</td>\n",
       "      <td>1447.7500</td>\n",
       "      <td>2127.0000</td>\n",
       "      <td>3148.00000</td>\n",
       "      <td>39320.0000</td>\n",
       "    </tr>\n",
       "    <tr>\n",
       "      <th>total_bedrooms</th>\n",
       "      <td>20433.0</td>\n",
       "      <td>537.870553</td>\n",
       "      <td>421.385070</td>\n",
       "      <td>1.0000</td>\n",
       "      <td>296.0000</td>\n",
       "      <td>435.0000</td>\n",
       "      <td>647.00000</td>\n",
       "      <td>6445.0000</td>\n",
       "    </tr>\n",
       "    <tr>\n",
       "      <th>population</th>\n",
       "      <td>20640.0</td>\n",
       "      <td>1425.476744</td>\n",
       "      <td>1132.462122</td>\n",
       "      <td>3.0000</td>\n",
       "      <td>787.0000</td>\n",
       "      <td>1166.0000</td>\n",
       "      <td>1725.00000</td>\n",
       "      <td>35682.0000</td>\n",
       "    </tr>\n",
       "    <tr>\n",
       "      <th>households</th>\n",
       "      <td>20640.0</td>\n",
       "      <td>499.539680</td>\n",
       "      <td>382.329753</td>\n",
       "      <td>1.0000</td>\n",
       "      <td>280.0000</td>\n",
       "      <td>409.0000</td>\n",
       "      <td>605.00000</td>\n",
       "      <td>6082.0000</td>\n",
       "    </tr>\n",
       "    <tr>\n",
       "      <th>median_income</th>\n",
       "      <td>20640.0</td>\n",
       "      <td>3.870671</td>\n",
       "      <td>1.899822</td>\n",
       "      <td>0.4999</td>\n",
       "      <td>2.5634</td>\n",
       "      <td>3.5348</td>\n",
       "      <td>4.74325</td>\n",
       "      <td>15.0001</td>\n",
       "    </tr>\n",
       "    <tr>\n",
       "      <th>median_house_value</th>\n",
       "      <td>20640.0</td>\n",
       "      <td>206855.816909</td>\n",
       "      <td>115395.615874</td>\n",
       "      <td>14999.0000</td>\n",
       "      <td>119600.0000</td>\n",
       "      <td>179700.0000</td>\n",
       "      <td>264725.00000</td>\n",
       "      <td>500001.0000</td>\n",
       "    </tr>\n",
       "  </tbody>\n",
       "</table>\n",
       "</div>"
      ],
      "text/plain": [
       "                      count           mean            std         min   \n",
       "longitude           20640.0    -119.569704       2.003532   -124.3500  \\\n",
       "latitude            20640.0      35.631861       2.135952     32.5400   \n",
       "housing_median_age  20640.0      28.639486      12.585558      1.0000   \n",
       "total_rooms         20640.0    2635.763081    2181.615252      2.0000   \n",
       "total_bedrooms      20433.0     537.870553     421.385070      1.0000   \n",
       "population          20640.0    1425.476744    1132.462122      3.0000   \n",
       "households          20640.0     499.539680     382.329753      1.0000   \n",
       "median_income       20640.0       3.870671       1.899822      0.4999   \n",
       "median_house_value  20640.0  206855.816909  115395.615874  14999.0000   \n",
       "\n",
       "                            25%          50%           75%          max  \n",
       "longitude             -121.8000    -118.4900    -118.01000    -114.3100  \n",
       "latitude                33.9300      34.2600      37.71000      41.9500  \n",
       "housing_median_age      18.0000      29.0000      37.00000      52.0000  \n",
       "total_rooms           1447.7500    2127.0000    3148.00000   39320.0000  \n",
       "total_bedrooms         296.0000     435.0000     647.00000    6445.0000  \n",
       "population             787.0000    1166.0000    1725.00000   35682.0000  \n",
       "households             280.0000     409.0000     605.00000    6082.0000  \n",
       "median_income            2.5634       3.5348       4.74325      15.0001  \n",
       "median_house_value  119600.0000  179700.0000  264725.00000  500001.0000  "
      ]
     },
     "execution_count": 9,
     "metadata": {},
     "output_type": "execute_result"
    }
   ],
   "source": [
    "cal_housing_prices.describe().transpose()"
   ]
  },
  {
   "cell_type": "code",
   "execution_count": 10,
   "id": "f4ad736b-0008-461b-a68c-152246a399f2",
   "metadata": {
    "tags": []
   },
   "outputs": [
    {
     "data": {
      "image/png": "[encoded data removed]",
      "text/plain": [
       "<Figure size 1600x1200 with 6 Axes>"
      ]
     },
     "metadata": {},
     "output_type": "display_data"
    }
   ],
   "source": [
    "# Plot the distrubution of all numerical columns using boxplot (except the target):\n",
    "fig, axs = plt.subplots(2, 3, figsize=(16, 12))\n",
    "axs = axs.flatten()\n",
    "for col, ax in zip(num_cols, axs):\n",
    "    cal_housing_prices[col].plot.box(ax=ax)"
   ]
  },
  {
   "cell_type": "markdown",
   "id": "28b60098-c034-4075-a482-85da10d23b5d",
   "metadata": {},
   "source": [
    "### Create a custom transformer to clean the data all at once"
   ]
  },
  {
   "cell_type": "code",
   "execution_count": 11,
   "id": "563c616c-fe24-4c24-9e23-eb2365983e96",
   "metadata": {},
   "outputs": [],
   "source": [
    "# 1. Create a function to drop irrelevant features and low-frequency categories:\n",
    "def clean_data(data, drop_cols=None, masks=None, drop_na=False):\n",
    "    \"\"\"Drops irrelevant features and low-frequency categories.\"\"\"\n",
    "    data_copy = data.copy()\n",
    "    if drop_cols is not None:\n",
    "        data_copy = data_copy.drop(drop_cols, axis=1)\n",
    "    if masks is not None:\n",
    "        for col, mask in masks.items():\n",
    "            data_copy = data_copy[eval(f\"data_copy['{col}'] {mask}\")].copy()\n",
    "    if drop_na is True:\n",
    "        data_copy.dropna(inplace=True)\n",
    "    return data_copy\n",
    "\n",
    "# 2. Create a kw_args dictionary:\n",
    "kw_args = {\n",
    "    \"drop_cols\": [\"total_bedrooms\", \"households\"],\n",
    "    \"masks\": {\"ocean_proximity\": \"!= 'ISLAND'\"},\n",
    "    \"drop_na\": True\n",
    "}\n",
    "\n",
    "# 3. Create the custom transformer:\n",
    "cleaner = FunctionTransformer(\n",
    "    func=clean_data,\n",
    "    feature_names_out=\"one-to-one\",\n",
    "    kw_args=kw_args\n",
    ")"
   ]
  },
  {
   "cell_type": "code",
   "execution_count": 12,
   "id": "0b5856e3-ef27-4a9b-ba12-01ac34eee393",
   "metadata": {
    "tags": []
   },
   "outputs": [],
   "source": [
    "cal_housing_prices_clean = cleaner.fit_transform(cal_housing_prices)"
   ]
  },
  {
   "cell_type": "code",
   "execution_count": 13,
   "id": "54275af5-b712-4104-b178-8bc2e2285417",
   "metadata": {
    "tags": []
   },
   "outputs": [
    {
     "data": {
      "text/html": [
       "<div>\n",
       "<style scoped>\n",
       "    .dataframe tbody tr th:only-of-type {\n",
       "        vertical-align: middle;\n",
       "    }\n",
       "\n",
       "    .dataframe tbody tr th {\n",
       "        vertical-align: top;\n",
       "    }\n",
       "\n",
       "    .dataframe thead th {\n",
       "        text-align: right;\n",
       "    }\n",
       "</style>\n",
       "<table border=\"1\" class=\"dataframe\">\n",
       "  <thead>\n",
       "    <tr style=\"text-align: right;\">\n",
       "      <th></th>\n",
       "      <th>longitude</th>\n",
       "      <th>latitude</th>\n",
       "      <th>housing_median_age</th>\n",
       "      <th>total_rooms</th>\n",
       "      <th>population</th>\n",
       "      <th>median_income</th>\n",
       "      <th>median_house_value</th>\n",
       "      <th>ocean_proximity</th>\n",
       "    </tr>\n",
       "  </thead>\n",
       "  <tbody>\n",
       "    <tr>\n",
       "      <th>0</th>\n",
       "      <td>-122.23</td>\n",
       "      <td>37.88</td>\n",
       "      <td>41.0</td>\n",
       "      <td>880.0</td>\n",
       "      <td>322.0</td>\n",
       "      <td>8.3252</td>\n",
       "      <td>452600.0</td>\n",
       "      <td>NEAR BAY</td>\n",
       "    </tr>\n",
       "    <tr>\n",
       "      <th>1</th>\n",
       "      <td>-122.22</td>\n",
       "      <td>37.86</td>\n",
       "      <td>21.0</td>\n",
       "      <td>7099.0</td>\n",
       "      <td>2401.0</td>\n",
       "      <td>8.3014</td>\n",
       "      <td>358500.0</td>\n",
       "      <td>NEAR BAY</td>\n",
       "    </tr>\n",
       "    <tr>\n",
       "      <th>2</th>\n",
       "      <td>-122.24</td>\n",
       "      <td>37.85</td>\n",
       "      <td>52.0</td>\n",
       "      <td>1467.0</td>\n",
       "      <td>496.0</td>\n",
       "      <td>7.2574</td>\n",
       "      <td>352100.0</td>\n",
       "      <td>NEAR BAY</td>\n",
       "    </tr>\n",
       "    <tr>\n",
       "      <th>3</th>\n",
       "      <td>-122.25</td>\n",
       "      <td>37.85</td>\n",
       "      <td>52.0</td>\n",
       "      <td>1274.0</td>\n",
       "      <td>558.0</td>\n",
       "      <td>5.6431</td>\n",
       "      <td>341300.0</td>\n",
       "      <td>NEAR BAY</td>\n",
       "    </tr>\n",
       "    <tr>\n",
       "      <th>4</th>\n",
       "      <td>-122.25</td>\n",
       "      <td>37.85</td>\n",
       "      <td>52.0</td>\n",
       "      <td>1627.0</td>\n",
       "      <td>565.0</td>\n",
       "      <td>3.8462</td>\n",
       "      <td>342200.0</td>\n",
       "      <td>NEAR BAY</td>\n",
       "    </tr>\n",
       "  </tbody>\n",
       "</table>\n",
       "</div>"
      ],
      "text/plain": [
       "   longitude  latitude  housing_median_age  total_rooms  population   \n",
       "0    -122.23     37.88                41.0        880.0       322.0  \\\n",
       "1    -122.22     37.86                21.0       7099.0      2401.0   \n",
       "2    -122.24     37.85                52.0       1467.0       496.0   \n",
       "3    -122.25     37.85                52.0       1274.0       558.0   \n",
       "4    -122.25     37.85                52.0       1627.0       565.0   \n",
       "\n",
       "   median_income  median_house_value ocean_proximity  \n",
       "0         8.3252            452600.0        NEAR BAY  \n",
       "1         8.3014            358500.0        NEAR BAY  \n",
       "2         7.2574            352100.0        NEAR BAY  \n",
       "3         5.6431            341300.0        NEAR BAY  \n",
       "4         3.8462            342200.0        NEAR BAY  "
      ]
     },
     "execution_count": 13,
     "metadata": {},
     "output_type": "execute_result"
    }
   ],
   "source": [
    "cal_housing_prices_clean.head()"
   ]
  },
  {
   "cell_type": "code",
   "execution_count": 14,
   "id": "ee7a7321-78b7-47e2-af93-f22b2182ea56",
   "metadata": {},
   "outputs": [
    {
     "data": {
      "text/html": [
       "<div>\n",
       "<style scoped>\n",
       "    .dataframe tbody tr th:only-of-type {\n",
       "        vertical-align: middle;\n",
       "    }\n",
       "\n",
       "    .dataframe tbody tr th {\n",
       "        vertical-align: top;\n",
       "    }\n",
       "\n",
       "    .dataframe thead th {\n",
       "        text-align: right;\n",
       "    }\n",
       "</style>\n",
       "<table border=\"1\" class=\"dataframe\">\n",
       "  <thead>\n",
       "    <tr style=\"text-align: right;\">\n",
       "      <th></th>\n",
       "      <th>count</th>\n",
       "      <th>mean</th>\n",
       "      <th>std</th>\n",
       "      <th>min</th>\n",
       "      <th>25%</th>\n",
       "      <th>50%</th>\n",
       "      <th>75%</th>\n",
       "      <th>max</th>\n",
       "    </tr>\n",
       "  </thead>\n",
       "  <tbody>\n",
       "    <tr>\n",
       "      <th>longitude</th>\n",
       "      <td>20635.0</td>\n",
       "      <td>-119.569999</td>\n",
       "      <td>2.003685</td>\n",
       "      <td>-124.3500</td>\n",
       "      <td>-121.8000</td>\n",
       "      <td>-118.5000</td>\n",
       "      <td>-118.0100</td>\n",
       "      <td>-114.3100</td>\n",
       "    </tr>\n",
       "    <tr>\n",
       "      <th>latitude</th>\n",
       "      <td>20635.0</td>\n",
       "      <td>35.632412</td>\n",
       "      <td>2.135918</td>\n",
       "      <td>32.5400</td>\n",
       "      <td>33.9300</td>\n",
       "      <td>34.2600</td>\n",
       "      <td>37.7100</td>\n",
       "      <td>41.9500</td>\n",
       "    </tr>\n",
       "    <tr>\n",
       "      <th>housing_median_age</th>\n",
       "      <td>20635.0</td>\n",
       "      <td>28.636152</td>\n",
       "      <td>12.583924</td>\n",
       "      <td>1.0000</td>\n",
       "      <td>18.0000</td>\n",
       "      <td>29.0000</td>\n",
       "      <td>37.0000</td>\n",
       "      <td>52.0000</td>\n",
       "    </tr>\n",
       "    <tr>\n",
       "      <th>total_rooms</th>\n",
       "      <td>20635.0</td>\n",
       "      <td>2636.020208</td>\n",
       "      <td>2181.794772</td>\n",
       "      <td>2.0000</td>\n",
       "      <td>1448.0000</td>\n",
       "      <td>2127.0000</td>\n",
       "      <td>3148.0000</td>\n",
       "      <td>39320.0000</td>\n",
       "    </tr>\n",
       "    <tr>\n",
       "      <th>population</th>\n",
       "      <td>20635.0</td>\n",
       "      <td>1425.660286</td>\n",
       "      <td>1132.530137</td>\n",
       "      <td>3.0000</td>\n",
       "      <td>787.0000</td>\n",
       "      <td>1166.0000</td>\n",
       "      <td>1725.0000</td>\n",
       "      <td>35682.0000</td>\n",
       "    </tr>\n",
       "    <tr>\n",
       "      <th>median_income</th>\n",
       "      <td>20635.0</td>\n",
       "      <td>3.870944</td>\n",
       "      <td>1.899961</td>\n",
       "      <td>0.4999</td>\n",
       "      <td>2.5631</td>\n",
       "      <td>3.5352</td>\n",
       "      <td>4.7437</td>\n",
       "      <td>15.0001</td>\n",
       "    </tr>\n",
       "    <tr>\n",
       "      <th>median_house_value</th>\n",
       "      <td>20635.0</td>\n",
       "      <td>206813.756288</td>\n",
       "      <td>115372.499511</td>\n",
       "      <td>14999.0000</td>\n",
       "      <td>119600.0000</td>\n",
       "      <td>179700.0000</td>\n",
       "      <td>264700.0000</td>\n",
       "      <td>500001.0000</td>\n",
       "    </tr>\n",
       "  </tbody>\n",
       "</table>\n",
       "</div>"
      ],
      "text/plain": [
       "                      count           mean            std         min   \n",
       "longitude           20635.0    -119.569999       2.003685   -124.3500  \\\n",
       "latitude            20635.0      35.632412       2.135918     32.5400   \n",
       "housing_median_age  20635.0      28.636152      12.583924      1.0000   \n",
       "total_rooms         20635.0    2636.020208    2181.794772      2.0000   \n",
       "population          20635.0    1425.660286    1132.530137      3.0000   \n",
       "median_income       20635.0       3.870944       1.899961      0.4999   \n",
       "median_house_value  20635.0  206813.756288  115372.499511  14999.0000   \n",
       "\n",
       "                            25%          50%          75%          max  \n",
       "longitude             -121.8000    -118.5000    -118.0100    -114.3100  \n",
       "latitude                33.9300      34.2600      37.7100      41.9500  \n",
       "housing_median_age      18.0000      29.0000      37.0000      52.0000  \n",
       "total_rooms           1448.0000    2127.0000    3148.0000   39320.0000  \n",
       "population             787.0000    1166.0000    1725.0000   35682.0000  \n",
       "median_income            2.5631       3.5352       4.7437      15.0001  \n",
       "median_house_value  119600.0000  179700.0000  264700.0000  500001.0000  "
      ]
     },
     "execution_count": 14,
     "metadata": {},
     "output_type": "execute_result"
    }
   ],
   "source": [
    "cal_housing_prices_clean.describe().transpose()"
   ]
  },
  {
   "cell_type": "markdown",
   "id": "1310a304-1ec4-4b6a-9d25-92b6d788cc89",
   "metadata": {},
   "source": [
    "## Step #02: Splitting the Data into Training and Testing Sets"
   ]
  },
  {
   "cell_type": "code",
   "execution_count": 15,
   "id": "5e2b74a4-0f7c-41e6-a7c0-ba357945c5cc",
   "metadata": {
    "tags": []
   },
   "outputs": [],
   "source": [
    "# Split the data into feature matrix and target vector:\n",
    "X = cal_housing_prices_clean.drop(target_col, axis=1)\n",
    "y = cal_housing_prices_clean[target_col]"
   ]
  },
  {
   "cell_type": "code",
   "execution_count": 16,
   "id": "86a11e7a-62d3-4d92-8663-9c7e5bf2a249",
   "metadata": {
    "tags": []
   },
   "outputs": [],
   "source": [
    "# Split the data into train and test sets:\n",
    "X_train, X_test, y_train, y_test = train_test_split(X, y, test_size=0.2, random_state=42)"
   ]
  },
  {
   "cell_type": "markdown",
   "id": "9ce5e779-472a-42d1-89d6-469dabc58083",
   "metadata": {},
   "source": [
    "## Step #03: Chaining the Steps of Data Preprocessing into a Pipeline "
   ]
  },
  {
   "cell_type": "code",
   "execution_count": 17,
   "id": "5bb148a3-6bc0-45be-a786-bec628ccdb98",
   "metadata": {
    "tags": []
   },
   "outputs": [],
   "source": [
    "# Create a custom log-transformer:\n",
    "\n",
    "# 1. Create a function to perform log-transformation:\n",
    "def perform_log_trans(X, transform_cols=None):\n",
    "    \"\"\"Performs log transformation.\"\"\"\n",
    "    X_copy = X.copy()\n",
    "    cols = transform_cols or X.select_dtypes(include=\"number\").columns.tolist()\n",
    "    X_copy[cols] = X_copy[cols].applymap(lambda x: np.log(abs(x)))\n",
    "    return X_copy\n",
    "\n",
    "# 2. Create a kw_args dictionary:\n",
    "kw_args = {\n",
    "    \"transform_cols\": [\"longitude\", \"latitude\", \"total_rooms\", \"population\", \"median_income\"]\n",
    "}\n",
    "\n",
    "# 3. Create a custom transformer:\n",
    "log_transformer = FunctionTransformer(\n",
    "    func=perform_log_trans,\n",
    "    feature_names_out=\"one-to-one\"\n",
    ")"
   ]
  },
  {
   "cell_type": "code",
   "execution_count": 18,
   "id": "5a7cc507-bf26-4e47-8abf-c7c817d240d5",
   "metadata": {},
   "outputs": [],
   "source": [
    "# Create a numerical features sclaer:\n",
    "robust_scaler_cols = X_train.select_dtypes(include=\"number\").columns.tolist()\n",
    "robust_scaler = RobustScaler()"
   ]
  },
  {
   "cell_type": "code",
   "execution_count": 19,
   "id": "c9a7b54d-87fb-43ca-ba14-593a0b4c174e",
   "metadata": {
    "tags": []
   },
   "outputs": [],
   "source": [
    "# Create a categorical features encoder:\n",
    "one_hot_encoder_cols = X_train.select_dtypes(exclude=\"number\").columns.tolist()\n",
    "one_hot_encoder = OneHotEncoder(sparse_output=False, handle_unknown=\"ignore\")"
   ]
  },
  {
   "cell_type": "code",
   "execution_count": 20,
   "id": "5cc8a643-2805-4f7f-9bf8-276451ab99f8",
   "metadata": {
    "tags": []
   },
   "outputs": [],
   "source": [
    "# Create a column transformer:\n",
    "col_transformer = make_column_transformer(\n",
    "    (robust_scaler, robust_scaler_cols),\n",
    "    (one_hot_encoder, one_hot_encoder_cols),\n",
    "    remainder=\"passthrough\",\n",
    "    verbose_feature_names_out=True\n",
    ")"
   ]
  },
  {
   "cell_type": "code",
   "execution_count": 21,
   "id": "6d1d6734-3efa-4ba7-a85e-4fb871f35219",
   "metadata": {
    "tags": []
   },
   "outputs": [],
   "source": [
    "# Create a pipeline for data preprocessing:\n",
    "preprocessor = make_pipeline(log_transformer, col_transformer)"
   ]
  },
  {
   "cell_type": "code",
   "execution_count": 22,
   "id": "2821be8a-427f-4a2b-adc5-a68776af609d",
   "metadata": {
    "tags": []
   },
   "outputs": [],
   "source": [
    "# Clean and fit X_test:\n",
    "X_train_trans = preprocessor.fit_transform(X_train)\n",
    "X_test_trans = preprocessor.transform(X_test)"
   ]
  },
  {
   "cell_type": "code",
   "execution_count": 23,
   "id": "3f593149-f924-40f1-8a83-ce4c287907ea",
   "metadata": {},
   "outputs": [
    {
     "data": {
      "text/plain": [
       "['longitude',\n",
       " 'latitude',\n",
       " 'housing_median_age',\n",
       " 'total_rooms',\n",
       " 'population',\n",
       " 'median_income',\n",
       " 'ocean_proximity_1H OCEAN',\n",
       " 'ocean_proximity_INLAND',\n",
       " 'ocean_proximity_NEAR BAY',\n",
       " 'ocean_proximity_NEAR OCEAN']"
      ]
     },
     "execution_count": 23,
     "metadata": {},
     "output_type": "execute_result"
    }
   ],
   "source": [
    "# Get the feature names:\n",
    "\n",
    "# 1. Define a function to rename features:\n",
    "def rename_features(raw_name):\n",
    "    \"\"\"Renames features.\"\"\"\n",
    "    feature_name = raw_name.rsplit(\"__\", maxsplit=1)[-1]\n",
    "    return feature_name.replace(\"<\", \"\")\n",
    "    \n",
    "# 2. Rename features:\n",
    "feature_names = [rename_features(c) for c in preprocessor.fit(X_train).get_feature_names_out()]\n",
    "feature_names"
   ]
  },
  {
   "cell_type": "code",
   "execution_count": 24,
   "id": "f76244b5-feb0-4a20-8e87-e7558f0df2c3",
   "metadata": {
    "tags": []
   },
   "outputs": [
    {
     "data": {
      "text/html": [
       "<div>\n",
       "<style scoped>\n",
       "    .dataframe tbody tr th:only-of-type {\n",
       "        vertical-align: middle;\n",
       "    }\n",
       "\n",
       "    .dataframe tbody tr th {\n",
       "        vertical-align: top;\n",
       "    }\n",
       "\n",
       "    .dataframe thead th {\n",
       "        text-align: right;\n",
       "    }\n",
       "</style>\n",
       "<table border=\"1\" class=\"dataframe\">\n",
       "  <thead>\n",
       "    <tr style=\"text-align: right;\">\n",
       "      <th></th>\n",
       "      <th>longitude</th>\n",
       "      <th>latitude</th>\n",
       "      <th>housing_median_age</th>\n",
       "      <th>total_rooms</th>\n",
       "      <th>population</th>\n",
       "      <th>median_income</th>\n",
       "      <th>ocean_proximity_1H OCEAN</th>\n",
       "      <th>ocean_proximity_INLAND</th>\n",
       "      <th>ocean_proximity_NEAR BAY</th>\n",
       "      <th>ocean_proximity_NEAR OCEAN</th>\n",
       "    </tr>\n",
       "  </thead>\n",
       "  <tbody>\n",
       "    <tr>\n",
       "      <th>0</th>\n",
       "      <td>0.214942</td>\n",
       "      <td>0.520164</td>\n",
       "      <td>-0.321703</td>\n",
       "      <td>-0.198341</td>\n",
       "      <td>-0.118187</td>\n",
       "      <td>-0.188172</td>\n",
       "      <td>0.0</td>\n",
       "      <td>1.0</td>\n",
       "      <td>0.0</td>\n",
       "      <td>0.0</td>\n",
       "    </tr>\n",
       "    <tr>\n",
       "      <th>1</th>\n",
       "      <td>-0.144113</td>\n",
       "      <td>-0.124863</td>\n",
       "      <td>0.220756</td>\n",
       "      <td>-0.532922</td>\n",
       "      <td>-0.222410</td>\n",
       "      <td>0.485221</td>\n",
       "      <td>1.0</td>\n",
       "      <td>0.0</td>\n",
       "      <td>0.0</td>\n",
       "      <td>0.0</td>\n",
       "    </tr>\n",
       "    <tr>\n",
       "      <th>2</th>\n",
       "      <td>0.344262</td>\n",
       "      <td>0.670272</td>\n",
       "      <td>0.546675</td>\n",
       "      <td>0.135608</td>\n",
       "      <td>-0.367483</td>\n",
       "      <td>0.008750</td>\n",
       "      <td>0.0</td>\n",
       "      <td>1.0</td>\n",
       "      <td>0.0</td>\n",
       "      <td>0.0</td>\n",
       "    </tr>\n",
       "    <tr>\n",
       "      <th>3</th>\n",
       "      <td>-0.031968</td>\n",
       "      <td>-0.119279</td>\n",
       "      <td>0.446305</td>\n",
       "      <td>0.461755</td>\n",
       "      <td>0.100104</td>\n",
       "      <td>0.610227</td>\n",
       "      <td>1.0</td>\n",
       "      <td>0.0</td>\n",
       "      <td>0.0</td>\n",
       "      <td>0.0</td>\n",
       "    </tr>\n",
       "    <tr>\n",
       "      <th>4</th>\n",
       "      <td>-0.141438</td>\n",
       "      <td>-0.058064</td>\n",
       "      <td>0.220756</td>\n",
       "      <td>-0.057328</td>\n",
       "      <td>0.570442</td>\n",
       "      <td>-0.356489</td>\n",
       "      <td>1.0</td>\n",
       "      <td>0.0</td>\n",
       "      <td>0.0</td>\n",
       "      <td>0.0</td>\n",
       "    </tr>\n",
       "  </tbody>\n",
       "</table>\n",
       "</div>"
      ],
      "text/plain": [
       "   longitude  latitude  housing_median_age  total_rooms  population   \n",
       "0   0.214942  0.520164           -0.321703    -0.198341   -0.118187  \\\n",
       "1  -0.144113 -0.124863            0.220756    -0.532922   -0.222410   \n",
       "2   0.344262  0.670272            0.546675     0.135608   -0.367483   \n",
       "3  -0.031968 -0.119279            0.446305     0.461755    0.100104   \n",
       "4  -0.141438 -0.058064            0.220756    -0.057328    0.570442   \n",
       "\n",
       "   median_income  ocean_proximity_1H OCEAN  ocean_proximity_INLAND   \n",
       "0      -0.188172                       0.0                     1.0  \\\n",
       "1       0.485221                       1.0                     0.0   \n",
       "2       0.008750                       0.0                     1.0   \n",
       "3       0.610227                       1.0                     0.0   \n",
       "4      -0.356489                       1.0                     0.0   \n",
       "\n",
       "   ocean_proximity_NEAR BAY  ocean_proximity_NEAR OCEAN  \n",
       "0                       0.0                         0.0  \n",
       "1                       0.0                         0.0  \n",
       "2                       0.0                         0.0  \n",
       "3                       0.0                         0.0  \n",
       "4                       0.0                         0.0  "
      ]
     },
     "execution_count": 24,
     "metadata": {},
     "output_type": "execute_result"
    }
   ],
   "source": [
    "# Recreate the df for training set after preprocessing:\n",
    "X_train_trans_df = pd.DataFrame(data=X_train_trans, columns=feature_names)\n",
    "X_train_trans_df.head()"
   ]
  },
  {
   "cell_type": "code",
   "execution_count": 25,
   "id": "1b8cb3ce-41c4-4c4c-a1c2-0e511c176089",
   "metadata": {
    "tags": []
   },
   "outputs": [
    {
     "data": {
      "text/html": [
       "<div>\n",
       "<style scoped>\n",
       "    .dataframe tbody tr th:only-of-type {\n",
       "        vertical-align: middle;\n",
       "    }\n",
       "\n",
       "    .dataframe tbody tr th {\n",
       "        vertical-align: top;\n",
       "    }\n",
       "\n",
       "    .dataframe thead th {\n",
       "        text-align: right;\n",
       "    }\n",
       "</style>\n",
       "<table border=\"1\" class=\"dataframe\">\n",
       "  <thead>\n",
       "    <tr style=\"text-align: right;\">\n",
       "      <th></th>\n",
       "      <th>count</th>\n",
       "      <th>mean</th>\n",
       "      <th>std</th>\n",
       "      <th>min</th>\n",
       "      <th>25%</th>\n",
       "      <th>50%</th>\n",
       "      <th>75%</th>\n",
       "      <th>max</th>\n",
       "    </tr>\n",
       "  </thead>\n",
       "  <tbody>\n",
       "    <tr>\n",
       "      <th>longitude</th>\n",
       "      <td>16508.0</td>\n",
       "      <td>0.282592</td>\n",
       "      <td>0.528809</td>\n",
       "      <td>-1.135860</td>\n",
       "      <td>-0.130741</td>\n",
       "      <td>0.000000e+00</td>\n",
       "      <td>0.869259</td>\n",
       "      <td>1.520433</td>\n",
       "    </tr>\n",
       "    <tr>\n",
       "      <th>latitude</th>\n",
       "      <td>16508.0</td>\n",
       "      <td>0.357922</td>\n",
       "      <td>0.560915</td>\n",
       "      <td>-0.483527</td>\n",
       "      <td>-0.091405</td>\n",
       "      <td>0.000000e+00</td>\n",
       "      <td>0.908595</td>\n",
       "      <td>1.912345</td>\n",
       "    </tr>\n",
       "    <tr>\n",
       "      <th>housing_median_age</th>\n",
       "      <td>16508.0</td>\n",
       "      <td>-0.202881</td>\n",
       "      <td>0.792041</td>\n",
       "      <td>-4.673255</td>\n",
       "      <td>-0.661892</td>\n",
       "      <td>0.000000e+00</td>\n",
       "      <td>0.338108</td>\n",
       "      <td>0.810424</td>\n",
       "    </tr>\n",
       "    <tr>\n",
       "      <th>total_rooms</th>\n",
       "      <td>16508.0</td>\n",
       "      <td>-0.046233</td>\n",
       "      <td>0.970068</td>\n",
       "      <td>-8.968127</td>\n",
       "      <td>-0.496233</td>\n",
       "      <td>0.000000e+00</td>\n",
       "      <td>0.503767</td>\n",
       "      <td>3.739534</td>\n",
       "    </tr>\n",
       "    <tr>\n",
       "      <th>population</th>\n",
       "      <td>16508.0</td>\n",
       "      <td>-0.045831</td>\n",
       "      <td>0.940820</td>\n",
       "      <td>-7.558871</td>\n",
       "      <td>-0.501976</td>\n",
       "      <td>0.000000e+00</td>\n",
       "      <td>0.498024</td>\n",
       "      <td>4.333428</td>\n",
       "    </tr>\n",
       "    <tr>\n",
       "      <th>median_income</th>\n",
       "      <td>16508.0</td>\n",
       "      <td>-0.025434</td>\n",
       "      <td>0.760414</td>\n",
       "      <td>-3.151579</td>\n",
       "      <td>-0.515521</td>\n",
       "      <td>-1.788798e-16</td>\n",
       "      <td>0.484479</td>\n",
       "      <td>2.328758</td>\n",
       "    </tr>\n",
       "    <tr>\n",
       "      <th>ocean_proximity_1H OCEAN</th>\n",
       "      <td>16508.0</td>\n",
       "      <td>0.442816</td>\n",
       "      <td>0.496734</td>\n",
       "      <td>0.000000</td>\n",
       "      <td>0.000000</td>\n",
       "      <td>0.000000e+00</td>\n",
       "      <td>1.000000</td>\n",
       "      <td>1.000000</td>\n",
       "    </tr>\n",
       "    <tr>\n",
       "      <th>ocean_proximity_INLAND</th>\n",
       "      <td>16508.0</td>\n",
       "      <td>0.317543</td>\n",
       "      <td>0.465535</td>\n",
       "      <td>0.000000</td>\n",
       "      <td>0.000000</td>\n",
       "      <td>0.000000e+00</td>\n",
       "      <td>1.000000</td>\n",
       "      <td>1.000000</td>\n",
       "    </tr>\n",
       "    <tr>\n",
       "      <th>ocean_proximity_NEAR BAY</th>\n",
       "      <td>16508.0</td>\n",
       "      <td>0.112430</td>\n",
       "      <td>0.315905</td>\n",
       "      <td>0.000000</td>\n",
       "      <td>0.000000</td>\n",
       "      <td>0.000000e+00</td>\n",
       "      <td>0.000000</td>\n",
       "      <td>1.000000</td>\n",
       "    </tr>\n",
       "    <tr>\n",
       "      <th>ocean_proximity_NEAR OCEAN</th>\n",
       "      <td>16508.0</td>\n",
       "      <td>0.127211</td>\n",
       "      <td>0.333219</td>\n",
       "      <td>0.000000</td>\n",
       "      <td>0.000000</td>\n",
       "      <td>0.000000e+00</td>\n",
       "      <td>0.000000</td>\n",
       "      <td>1.000000</td>\n",
       "    </tr>\n",
       "  </tbody>\n",
       "</table>\n",
       "</div>"
      ],
      "text/plain": [
       "                              count      mean       std       min       25%   \n",
       "longitude                   16508.0  0.282592  0.528809 -1.135860 -0.130741  \\\n",
       "latitude                    16508.0  0.357922  0.560915 -0.483527 -0.091405   \n",
       "housing_median_age          16508.0 -0.202881  0.792041 -4.673255 -0.661892   \n",
       "total_rooms                 16508.0 -0.046233  0.970068 -8.968127 -0.496233   \n",
       "population                  16508.0 -0.045831  0.940820 -7.558871 -0.501976   \n",
       "median_income               16508.0 -0.025434  0.760414 -3.151579 -0.515521   \n",
       "ocean_proximity_1H OCEAN    16508.0  0.442816  0.496734  0.000000  0.000000   \n",
       "ocean_proximity_INLAND      16508.0  0.317543  0.465535  0.000000  0.000000   \n",
       "ocean_proximity_NEAR BAY    16508.0  0.112430  0.315905  0.000000  0.000000   \n",
       "ocean_proximity_NEAR OCEAN  16508.0  0.127211  0.333219  0.000000  0.000000   \n",
       "\n",
       "                                     50%       75%       max  \n",
       "longitude                   0.000000e+00  0.869259  1.520433  \n",
       "latitude                    0.000000e+00  0.908595  1.912345  \n",
       "housing_median_age          0.000000e+00  0.338108  0.810424  \n",
       "total_rooms                 0.000000e+00  0.503767  3.739534  \n",
       "population                  0.000000e+00  0.498024  4.333428  \n",
       "median_income              -1.788798e-16  0.484479  2.328758  \n",
       "ocean_proximity_1H OCEAN    0.000000e+00  1.000000  1.000000  \n",
       "ocean_proximity_INLAND      0.000000e+00  1.000000  1.000000  \n",
       "ocean_proximity_NEAR BAY    0.000000e+00  0.000000  1.000000  \n",
       "ocean_proximity_NEAR OCEAN  0.000000e+00  0.000000  1.000000  "
      ]
     },
     "execution_count": 25,
     "metadata": {},
     "output_type": "execute_result"
    }
   ],
   "source": [
    "# Explore the min, mean & max of X_train_trans_df:\n",
    "X_train_trans_df.describe().transpose()"
   ]
  },
  {
   "cell_type": "code",
   "execution_count": 26,
   "id": "c5fdd58a-6c3b-4e98-bab4-162d0992ce55",
   "metadata": {
    "tags": []
   },
   "outputs": [
    {
     "data": {
      "image/png": "[encoded data removed]",
      "text/plain": [
       "<Figure size 640x480 with 1 Axes>"
      ]
     },
     "metadata": {},
     "output_type": "display_data"
    }
   ],
   "source": [
    "# Plot the distribution of X_train_trans_df:\n",
    "X_train_trans_df.plot.box(rot=90);"
   ]
  },
  {
   "cell_type": "markdown",
   "id": "a5d68c57-1643-4074-94be-1b9191a1d619",
   "metadata": {},
   "source": [
    "## Step #04: Saving Results"
   ]
  },
  {
   "cell_type": "code",
   "execution_count": 27,
   "id": "97d4615c-5ba7-4163-abf0-ade0d20ddf59",
   "metadata": {
    "tags": []
   },
   "outputs": [],
   "source": [
    "# Create a dictionary to hold the results:\n",
    "preprocessing_results = {\n",
    "    \"feature_names\": feature_names,\n",
    "    \"X_train_trans\": X_train_trans.astype(np.float32),\n",
    "    \"X_test_trans\": X_test_trans.astype(np.float32),\n",
    "    \"y_train\": y_train.astype(np.float32),\n",
    "    \"y_test\": y_test.astype(np.float32)\n",
    "}"
   ]
  },
  {
   "cell_type": "code",
   "execution_count": 28,
   "id": "d6399796-c0c0-41f6-b216-af6f44ece6c8",
   "metadata": {
    "tags": []
   },
   "outputs": [],
   "source": [
    "# Pickle the results:\n",
    "with open(\"./assets/preprocessing_results.pkl\", mode=\"wb\") as file_bin:\n",
    "    pickle.dump(preprocessing_results, file_bin)"
   ]
  },
  {
   "cell_type": "code",
   "execution_count": null,
   "id": "08f4c033-d6af-410e-ae7b-104f9893e193",
   "metadata": {},
   "outputs": [],
   "source": []
  }
 ],
 "metadata": {
  "kernelspec": {
   "display_name": "Data-Playground",
   "language": "python",
   "name": "data-playground"
  },
  "language_info": {
   "codemirror_mode": {
    "name": "ipython",
    "version": 3
   },
   "file_extension": ".py",
   "mimetype": "text/x-python",
   "name": "python",
   "nbconvert_exporter": "python",
   "pygments_lexer": "ipython3",
   "version": "3.11.3"
  }
 },
 "nbformat": 4,
 "nbformat_minor": 5
}
