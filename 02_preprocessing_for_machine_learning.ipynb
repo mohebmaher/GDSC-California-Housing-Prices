{
 "cells": [
  {
   "cell_type": "markdown",
   "id": "e54aec09-a13a-4f27-a326-7b1ad18983b6",
   "metadata": {},
   "source": [
    "# Part #02: Preprocessing for Machine Learning"
   ]
  },
  {
   "cell_type": "markdown",
   "id": "b49c5b96-ba08-4727-ab6a-7a24113fcbef",
   "metadata": {},
   "source": [
    "## Step #01: Exploratory Data Analysis Revisited"
   ]
  },
  {
   "cell_type": "markdown",
   "id": "0d82e14a-e33a-4030-8d6f-939e0d3f1e32",
   "metadata": {},
   "source": [
    "### Set up the workspace"
   ]
  },
  {
   "cell_type": "code",
   "execution_count": 1,
   "id": "dc2e72a7-3284-47aa-88f7-8ded4e2fad62",
   "metadata": {
    "tags": []
   },
   "outputs": [],
   "source": [
    "import pickle\n",
    "import matplotlib.pyplot as plt\n",
    "%matplotlib inline\n",
    "import numpy as np\n",
    "import pandas as pd\n",
    "import seaborn as sns\n",
    "sns.set()\n",
    "from sklearn.compose import ColumnTransformer\n",
    "from sklearn.model_selection import train_test_split\n",
    "from sklearn.preprocessing import FunctionTransformer, OneHotEncoder, RobustScaler"
   ]
  },
  {
   "cell_type": "markdown",
   "id": "5ef5134b-26a7-4a0b-a489-89c9bd217544",
   "metadata": {},
   "source": [
    "### Gather (or read) the data"
   ]
  },
  {
   "cell_type": "code",
   "execution_count": 2,
   "id": "b7dd0e13-b204-4d5a-845e-77f7c6782997",
   "metadata": {
    "tags": []
   },
   "outputs": [],
   "source": [
    "cal_housing_prices = pd.read_csv(\"./datasets/housing.csv\")"
   ]
  },
  {
   "cell_type": "markdown",
   "id": "b57c2c68-218e-4029-a13a-d3b5bea1a994",
   "metadata": {},
   "source": [
    "### Explore the first few rows"
   ]
  },
  {
   "cell_type": "code",
   "execution_count": 3,
   "id": "03233752-e0d5-4ba7-b52f-2d9405b19dd7",
   "metadata": {
    "tags": []
   },
   "outputs": [
    {
     "data": {
      "text/html": [
       "<div>\n",
       "<style scoped>\n",
       "    .dataframe tbody tr th:only-of-type {\n",
       "        vertical-align: middle;\n",
       "    }\n",
       "\n",
       "    .dataframe tbody tr th {\n",
       "        vertical-align: top;\n",
       "    }\n",
       "\n",
       "    .dataframe thead th {\n",
       "        text-align: right;\n",
       "    }\n",
       "</style>\n",
       "<table border=\"1\" class=\"dataframe\">\n",
       "  <thead>\n",
       "    <tr style=\"text-align: right;\">\n",
       "      <th></th>\n",
       "      <th>longitude</th>\n",
       "      <th>latitude</th>\n",
       "      <th>housing_median_age</th>\n",
       "      <th>total_rooms</th>\n",
       "      <th>total_bedrooms</th>\n",
       "      <th>population</th>\n",
       "      <th>households</th>\n",
       "      <th>median_income</th>\n",
       "      <th>median_house_value</th>\n",
       "      <th>ocean_proximity</th>\n",
       "    </tr>\n",
       "  </thead>\n",
       "  <tbody>\n",
       "    <tr>\n",
       "      <th>0</th>\n",
       "      <td>-122.23</td>\n",
       "      <td>37.88</td>\n",
       "      <td>41.0</td>\n",
       "      <td>880.0</td>\n",
       "      <td>129.0</td>\n",
       "      <td>322.0</td>\n",
       "      <td>126.0</td>\n",
       "      <td>8.3252</td>\n",
       "      <td>452600.0</td>\n",
       "      <td>NEAR BAY</td>\n",
       "    </tr>\n",
       "    <tr>\n",
       "      <th>1</th>\n",
       "      <td>-122.22</td>\n",
       "      <td>37.86</td>\n",
       "      <td>21.0</td>\n",
       "      <td>7099.0</td>\n",
       "      <td>1106.0</td>\n",
       "      <td>2401.0</td>\n",
       "      <td>1138.0</td>\n",
       "      <td>8.3014</td>\n",
       "      <td>358500.0</td>\n",
       "      <td>NEAR BAY</td>\n",
       "    </tr>\n",
       "    <tr>\n",
       "      <th>2</th>\n",
       "      <td>-122.24</td>\n",
       "      <td>37.85</td>\n",
       "      <td>52.0</td>\n",
       "      <td>1467.0</td>\n",
       "      <td>190.0</td>\n",
       "      <td>496.0</td>\n",
       "      <td>177.0</td>\n",
       "      <td>7.2574</td>\n",
       "      <td>352100.0</td>\n",
       "      <td>NEAR BAY</td>\n",
       "    </tr>\n",
       "    <tr>\n",
       "      <th>3</th>\n",
       "      <td>-122.25</td>\n",
       "      <td>37.85</td>\n",
       "      <td>52.0</td>\n",
       "      <td>1274.0</td>\n",
       "      <td>235.0</td>\n",
       "      <td>558.0</td>\n",
       "      <td>219.0</td>\n",
       "      <td>5.6431</td>\n",
       "      <td>341300.0</td>\n",
       "      <td>NEAR BAY</td>\n",
       "    </tr>\n",
       "    <tr>\n",
       "      <th>4</th>\n",
       "      <td>-122.25</td>\n",
       "      <td>37.85</td>\n",
       "      <td>52.0</td>\n",
       "      <td>1627.0</td>\n",
       "      <td>280.0</td>\n",
       "      <td>565.0</td>\n",
       "      <td>259.0</td>\n",
       "      <td>3.8462</td>\n",
       "      <td>342200.0</td>\n",
       "      <td>NEAR BAY</td>\n",
       "    </tr>\n",
       "  </tbody>\n",
       "</table>\n",
       "</div>"
      ],
      "text/plain": [
       "   longitude  latitude  housing_median_age  total_rooms  total_bedrooms   \n",
       "0    -122.23     37.88                41.0        880.0           129.0  \\\n",
       "1    -122.22     37.86                21.0       7099.0          1106.0   \n",
       "2    -122.24     37.85                52.0       1467.0           190.0   \n",
       "3    -122.25     37.85                52.0       1274.0           235.0   \n",
       "4    -122.25     37.85                52.0       1627.0           280.0   \n",
       "\n",
       "   population  households  median_income  median_house_value ocean_proximity  \n",
       "0       322.0       126.0         8.3252            452600.0        NEAR BAY  \n",
       "1      2401.0      1138.0         8.3014            358500.0        NEAR BAY  \n",
       "2       496.0       177.0         7.2574            352100.0        NEAR BAY  \n",
       "3       558.0       219.0         5.6431            341300.0        NEAR BAY  \n",
       "4       565.0       259.0         3.8462            342200.0        NEAR BAY  "
      ]
     },
     "execution_count": 3,
     "metadata": {},
     "output_type": "execute_result"
    }
   ],
   "source": [
    "cal_housing_prices.head()"
   ]
  },
  {
   "cell_type": "markdown",
   "id": "8446f1f5-d4ff-4ace-9ca1-ef7bd3e95e64",
   "metadata": {},
   "source": [
    "### Eliminate irrelevant Features"
   ]
  },
  {
   "cell_type": "code",
   "execution_count": 4,
   "id": "f7843432-8dc7-4eb4-82de-f42a319204b5",
   "metadata": {
    "tags": []
   },
   "outputs": [
    {
     "data": {
      "text/html": [
       "<div>\n",
       "<style scoped>\n",
       "    .dataframe tbody tr th:only-of-type {\n",
       "        vertical-align: middle;\n",
       "    }\n",
       "\n",
       "    .dataframe tbody tr th {\n",
       "        vertical-align: top;\n",
       "    }\n",
       "\n",
       "    .dataframe thead th {\n",
       "        text-align: right;\n",
       "    }\n",
       "</style>\n",
       "<table border=\"1\" class=\"dataframe\">\n",
       "  <thead>\n",
       "    <tr style=\"text-align: right;\">\n",
       "      <th></th>\n",
       "      <th>longitude</th>\n",
       "      <th>latitude</th>\n",
       "      <th>housing_median_age</th>\n",
       "      <th>total_rooms</th>\n",
       "      <th>population</th>\n",
       "      <th>median_income</th>\n",
       "      <th>median_house_value</th>\n",
       "      <th>ocean_proximity</th>\n",
       "    </tr>\n",
       "  </thead>\n",
       "  <tbody>\n",
       "    <tr>\n",
       "      <th>0</th>\n",
       "      <td>-122.23</td>\n",
       "      <td>37.88</td>\n",
       "      <td>41.0</td>\n",
       "      <td>880.0</td>\n",
       "      <td>322.0</td>\n",
       "      <td>8.3252</td>\n",
       "      <td>452600.0</td>\n",
       "      <td>NEAR BAY</td>\n",
       "    </tr>\n",
       "    <tr>\n",
       "      <th>1</th>\n",
       "      <td>-122.22</td>\n",
       "      <td>37.86</td>\n",
       "      <td>21.0</td>\n",
       "      <td>7099.0</td>\n",
       "      <td>2401.0</td>\n",
       "      <td>8.3014</td>\n",
       "      <td>358500.0</td>\n",
       "      <td>NEAR BAY</td>\n",
       "    </tr>\n",
       "    <tr>\n",
       "      <th>2</th>\n",
       "      <td>-122.24</td>\n",
       "      <td>37.85</td>\n",
       "      <td>52.0</td>\n",
       "      <td>1467.0</td>\n",
       "      <td>496.0</td>\n",
       "      <td>7.2574</td>\n",
       "      <td>352100.0</td>\n",
       "      <td>NEAR BAY</td>\n",
       "    </tr>\n",
       "    <tr>\n",
       "      <th>3</th>\n",
       "      <td>-122.25</td>\n",
       "      <td>37.85</td>\n",
       "      <td>52.0</td>\n",
       "      <td>1274.0</td>\n",
       "      <td>558.0</td>\n",
       "      <td>5.6431</td>\n",
       "      <td>341300.0</td>\n",
       "      <td>NEAR BAY</td>\n",
       "    </tr>\n",
       "    <tr>\n",
       "      <th>4</th>\n",
       "      <td>-122.25</td>\n",
       "      <td>37.85</td>\n",
       "      <td>52.0</td>\n",
       "      <td>1627.0</td>\n",
       "      <td>565.0</td>\n",
       "      <td>3.8462</td>\n",
       "      <td>342200.0</td>\n",
       "      <td>NEAR BAY</td>\n",
       "    </tr>\n",
       "  </tbody>\n",
       "</table>\n",
       "</div>"
      ],
      "text/plain": [
       "   longitude  latitude  housing_median_age  total_rooms  population   \n",
       "0    -122.23     37.88                41.0        880.0       322.0  \\\n",
       "1    -122.22     37.86                21.0       7099.0      2401.0   \n",
       "2    -122.24     37.85                52.0       1467.0       496.0   \n",
       "3    -122.25     37.85                52.0       1274.0       558.0   \n",
       "4    -122.25     37.85                52.0       1627.0       565.0   \n",
       "\n",
       "   median_income  median_house_value ocean_proximity  \n",
       "0         8.3252            452600.0        NEAR BAY  \n",
       "1         8.3014            358500.0        NEAR BAY  \n",
       "2         7.2574            352100.0        NEAR BAY  \n",
       "3         5.6431            341300.0        NEAR BAY  \n",
       "4         3.8462            342200.0        NEAR BAY  "
      ]
     },
     "execution_count": 4,
     "metadata": {},
     "output_type": "execute_result"
    }
   ],
   "source": [
    "cal_housing_prices = cal_housing_prices.drop([\"total_bedrooms\", \"households\"], axis=1)\n",
    "cal_housing_prices.head()"
   ]
  },
  {
   "cell_type": "markdown",
   "id": "5a0672bd-2746-4a5c-911a-9ee34318332a",
   "metadata": {},
   "source": [
    "### Specify columns by data type"
   ]
  },
  {
   "cell_type": "code",
   "execution_count": 5,
   "id": "b7d9fb4f-319e-4554-98a3-2216ffa996e3",
   "metadata": {
    "tags": []
   },
   "outputs": [
    {
     "data": {
      "text/plain": [
       "'median_house_value'"
      ]
     },
     "execution_count": 5,
     "metadata": {},
     "output_type": "execute_result"
    }
   ],
   "source": [
    "target_col = \"median_house_value\"\n",
    "target_col"
   ]
  },
  {
   "cell_type": "code",
   "execution_count": 6,
   "id": "0c16b5d0-9c85-41ed-9b55-fb9c6b4d2794",
   "metadata": {
    "tags": []
   },
   "outputs": [
    {
     "data": {
      "text/plain": [
       "['ocean_proximity']"
      ]
     },
     "execution_count": 6,
     "metadata": {},
     "output_type": "execute_result"
    }
   ],
   "source": [
    "cat_cols = cal_housing_prices.select_dtypes(exclude=\"number\").columns.tolist()\n",
    "cat_cols"
   ]
  },
  {
   "cell_type": "code",
   "execution_count": 7,
   "id": "b83f9526-9b3f-4bc5-a5d5-b5b6742d448d",
   "metadata": {
    "tags": []
   },
   "outputs": [
    {
     "data": {
      "text/plain": [
       "['longitude',\n",
       " 'latitude',\n",
       " 'housing_median_age',\n",
       " 'total_rooms',\n",
       " 'population',\n",
       " 'median_income']"
      ]
     },
     "execution_count": 7,
     "metadata": {},
     "output_type": "execute_result"
    }
   ],
   "source": [
    "num_cols = [c for c in cal_housing_prices.columns if c not in [*cat_cols, target_col]]\n",
    "num_cols"
   ]
  },
  {
   "cell_type": "markdown",
   "id": "e482f61c-5a23-474c-be12-de060baa8226",
   "metadata": {},
   "source": [
    "### Check for missing values"
   ]
  },
  {
   "cell_type": "code",
   "execution_count": 8,
   "id": "04e6b559-14c2-41a9-ad20-b909bd935a41",
   "metadata": {
    "tags": []
   },
   "outputs": [
    {
     "data": {
      "text/plain": [
       "longitude             0.0\n",
       "latitude              0.0\n",
       "housing_median_age    0.0\n",
       "total_rooms           0.0\n",
       "population            0.0\n",
       "median_income         0.0\n",
       "median_house_value    0.0\n",
       "ocean_proximity       0.0\n",
       "dtype: float64"
      ]
     },
     "execution_count": 8,
     "metadata": {},
     "output_type": "execute_result"
    }
   ],
   "source": [
    "cal_housing_prices.isna().mean()"
   ]
  },
  {
   "cell_type": "markdown",
   "id": "c9f9ca3f-3a01-4bbb-a0d7-562fb61189f8",
   "metadata": {},
   "source": [
    "### Check for non-numerical features"
   ]
  },
  {
   "cell_type": "code",
   "execution_count": 9,
   "id": "32b79f7b-8eb2-4c6d-ae7d-834a8449f1ec",
   "metadata": {
    "tags": []
   },
   "outputs": [
    {
     "data": {
      "text/plain": [
       "ocean_proximity\n",
       "<1H OCEAN          0.442636\n",
       "INLAND             0.317393\n",
       "NEAR OCEAN         0.128779\n",
       "NEAR BAY           0.110950\n",
       "ISLAND             0.000242\n",
       "Name: proportion, dtype: float64"
      ]
     },
     "execution_count": 9,
     "metadata": {},
     "output_type": "execute_result"
    }
   ],
   "source": [
    "cal_housing_prices[cat_cols].value_counts(normalize=True)"
   ]
  },
  {
   "cell_type": "code",
   "execution_count": 10,
   "id": "f354a21b-6141-4805-b376-cf3a470fac96",
   "metadata": {
    "tags": []
   },
   "outputs": [
    {
     "data": {
      "text/plain": [
       "ocean_proximity\n",
       "<1H OCEAN     0.442743\n",
       "INLAND        0.317470\n",
       "NEAR OCEAN    0.128810\n",
       "NEAR BAY      0.110976\n",
       "Name: proportion, dtype: float64"
      ]
     },
     "execution_count": 10,
     "metadata": {},
     "output_type": "execute_result"
    }
   ],
   "source": [
    "# Drop rows with low-frequency categorical labels:\n",
    "cal_housing_prices = cal_housing_prices[cal_housing_prices[\"ocean_proximity\"] != \"ISLAND\"]\n",
    "cal_housing_prices[\"ocean_proximity\"].value_counts(normalize=True)"
   ]
  },
  {
   "cell_type": "markdown",
   "id": "f625f388-2140-4548-9816-f0c22d27a67e",
   "metadata": {},
   "source": [
    "### Check for distribution and outliers in numerical featues"
   ]
  },
  {
   "cell_type": "code",
   "execution_count": 11,
   "id": "cabe04c3-050e-4903-bf0d-c19f30e3533a",
   "metadata": {
    "tags": []
   },
   "outputs": [
    {
     "data": {
      "text/html": [
       "<div>\n",
       "<style scoped>\n",
       "    .dataframe tbody tr th:only-of-type {\n",
       "        vertical-align: middle;\n",
       "    }\n",
       "\n",
       "    .dataframe tbody tr th {\n",
       "        vertical-align: top;\n",
       "    }\n",
       "\n",
       "    .dataframe thead th {\n",
       "        text-align: right;\n",
       "    }\n",
       "</style>\n",
       "<table border=\"1\" class=\"dataframe\">\n",
       "  <thead>\n",
       "    <tr style=\"text-align: right;\">\n",
       "      <th></th>\n",
       "      <th>count</th>\n",
       "      <th>mean</th>\n",
       "      <th>std</th>\n",
       "      <th>min</th>\n",
       "      <th>25%</th>\n",
       "      <th>50%</th>\n",
       "      <th>75%</th>\n",
       "      <th>max</th>\n",
       "    </tr>\n",
       "  </thead>\n",
       "  <tbody>\n",
       "    <tr>\n",
       "      <th>longitude</th>\n",
       "      <td>20635.0</td>\n",
       "      <td>-119.569999</td>\n",
       "      <td>2.003685</td>\n",
       "      <td>-124.3500</td>\n",
       "      <td>-121.8000</td>\n",
       "      <td>-118.5000</td>\n",
       "      <td>-118.0100</td>\n",
       "      <td>-114.3100</td>\n",
       "    </tr>\n",
       "    <tr>\n",
       "      <th>latitude</th>\n",
       "      <td>20635.0</td>\n",
       "      <td>35.632412</td>\n",
       "      <td>2.135918</td>\n",
       "      <td>32.5400</td>\n",
       "      <td>33.9300</td>\n",
       "      <td>34.2600</td>\n",
       "      <td>37.7100</td>\n",
       "      <td>41.9500</td>\n",
       "    </tr>\n",
       "    <tr>\n",
       "      <th>housing_median_age</th>\n",
       "      <td>20635.0</td>\n",
       "      <td>28.636152</td>\n",
       "      <td>12.583924</td>\n",
       "      <td>1.0000</td>\n",
       "      <td>18.0000</td>\n",
       "      <td>29.0000</td>\n",
       "      <td>37.0000</td>\n",
       "      <td>52.0000</td>\n",
       "    </tr>\n",
       "    <tr>\n",
       "      <th>total_rooms</th>\n",
       "      <td>20635.0</td>\n",
       "      <td>2636.020208</td>\n",
       "      <td>2181.794772</td>\n",
       "      <td>2.0000</td>\n",
       "      <td>1448.0000</td>\n",
       "      <td>2127.0000</td>\n",
       "      <td>3148.0000</td>\n",
       "      <td>39320.0000</td>\n",
       "    </tr>\n",
       "    <tr>\n",
       "      <th>population</th>\n",
       "      <td>20635.0</td>\n",
       "      <td>1425.660286</td>\n",
       "      <td>1132.530137</td>\n",
       "      <td>3.0000</td>\n",
       "      <td>787.0000</td>\n",
       "      <td>1166.0000</td>\n",
       "      <td>1725.0000</td>\n",
       "      <td>35682.0000</td>\n",
       "    </tr>\n",
       "    <tr>\n",
       "      <th>median_income</th>\n",
       "      <td>20635.0</td>\n",
       "      <td>3.870944</td>\n",
       "      <td>1.899961</td>\n",
       "      <td>0.4999</td>\n",
       "      <td>2.5631</td>\n",
       "      <td>3.5352</td>\n",
       "      <td>4.7437</td>\n",
       "      <td>15.0001</td>\n",
       "    </tr>\n",
       "    <tr>\n",
       "      <th>median_house_value</th>\n",
       "      <td>20635.0</td>\n",
       "      <td>206813.756288</td>\n",
       "      <td>115372.499511</td>\n",
       "      <td>14999.0000</td>\n",
       "      <td>119600.0000</td>\n",
       "      <td>179700.0000</td>\n",
       "      <td>264700.0000</td>\n",
       "      <td>500001.0000</td>\n",
       "    </tr>\n",
       "  </tbody>\n",
       "</table>\n",
       "</div>"
      ],
      "text/plain": [
       "                      count           mean            std         min   \n",
       "longitude           20635.0    -119.569999       2.003685   -124.3500  \\\n",
       "latitude            20635.0      35.632412       2.135918     32.5400   \n",
       "housing_median_age  20635.0      28.636152      12.583924      1.0000   \n",
       "total_rooms         20635.0    2636.020208    2181.794772      2.0000   \n",
       "population          20635.0    1425.660286    1132.530137      3.0000   \n",
       "median_income       20635.0       3.870944       1.899961      0.4999   \n",
       "median_house_value  20635.0  206813.756288  115372.499511  14999.0000   \n",
       "\n",
       "                            25%          50%          75%          max  \n",
       "longitude             -121.8000    -118.5000    -118.0100    -114.3100  \n",
       "latitude                33.9300      34.2600      37.7100      41.9500  \n",
       "housing_median_age      18.0000      29.0000      37.0000      52.0000  \n",
       "total_rooms           1448.0000    2127.0000    3148.0000   39320.0000  \n",
       "population             787.0000    1166.0000    1725.0000   35682.0000  \n",
       "median_income            2.5631       3.5352       4.7437      15.0001  \n",
       "median_house_value  119600.0000  179700.0000  264700.0000  500001.0000  "
      ]
     },
     "execution_count": 11,
     "metadata": {},
     "output_type": "execute_result"
    }
   ],
   "source": [
    "cal_housing_prices.describe().transpose()"
   ]
  },
  {
   "cell_type": "code",
   "execution_count": 12,
   "id": "1016fafa-f2ad-4608-bcbe-293acba81d46",
   "metadata": {
    "tags": []
   },
   "outputs": [
    {
     "data": {
      "text/plain": [
       "['longitude',\n",
       " 'latitude',\n",
       " 'housing_median_age',\n",
       " 'total_rooms',\n",
       " 'population',\n",
       " 'median_income']"
      ]
     },
     "execution_count": 12,
     "metadata": {},
     "output_type": "execute_result"
    }
   ],
   "source": [
    "num_cols"
   ]
  },
  {
   "cell_type": "code",
   "execution_count": 13,
   "id": "f4ad736b-0008-461b-a68c-152246a399f2",
   "metadata": {
    "tags": []
   },
   "outputs": [
    {
     "data": {
      "image/png": "[encoded data removed]",
      "text/plain": [
       "<Figure size 1600x1200 with 8 Axes>"
      ]
     },
     "metadata": {},
     "output_type": "display_data"
    }
   ],
   "source": [
    "# Plot the distrubution of all numerical columns using boxplot (except the target):\n",
    "fig, axs = plt.subplots(2, (len(num_cols) // 2) + 1, figsize=(16, 12))\n",
    "axs = axs.flatten()\n",
    "for col, ax in zip(num_cols, axs):\n",
    "    cal_housing_prices[col].plot.box(ax=ax)"
   ]
  },
  {
   "cell_type": "markdown",
   "id": "1310a304-1ec4-4b6a-9d25-92b6d788cc89",
   "metadata": {},
   "source": [
    "## Step #02: Splitting the Data into Training and Testing Sets"
   ]
  },
  {
   "cell_type": "code",
   "execution_count": 14,
   "id": "5e2b74a4-0f7c-41e6-a7c0-ba357945c5cc",
   "metadata": {
    "tags": []
   },
   "outputs": [],
   "source": [
    "# Split the data into feature matrix and target vector:\n",
    "X = cal_housing_prices.drop(target_col, axis=1)\n",
    "y = cal_housing_prices[target_col]"
   ]
  },
  {
   "cell_type": "code",
   "execution_count": 15,
   "id": "86a11e7a-62d3-4d92-8663-9c7e5bf2a249",
   "metadata": {
    "tags": []
   },
   "outputs": [],
   "source": [
    "# Split the data into train and test sets:\n",
    "X_train, X_test, y_train, y_test = train_test_split(X, y, test_size=0.33, random_state=42)"
   ]
  },
  {
   "cell_type": "markdown",
   "id": "9ce5e779-472a-42d1-89d6-469dabc58083",
   "metadata": {},
   "source": [
    "## Step #03: Chaining the Steps of Data Preprocessing into a Pipeline "
   ]
  },
  {
   "cell_type": "code",
   "execution_count": 16,
   "id": "b39f6b10-6c85-4a82-b1ef-580ac7abf9e8",
   "metadata": {
    "tags": []
   },
   "outputs": [],
   "source": [
    "# Create a log-transformer:\n",
    "log_transformer_cols = [c for c in num_cols if c != \"housing_median_age\"]\n",
    "log_transformer = FunctionTransformer(lambda x: np.log(abs(x)))"
   ]
  },
  {
   "cell_type": "code",
   "execution_count": 17,
   "id": "5a7cc507-bf26-4e47-8abf-c7c817d240d5",
   "metadata": {},
   "outputs": [],
   "source": [
    "# Create a numerical features sclaer:\n",
    "robust_scaler_cols = num_cols[:]\n",
    "robust_scaler = RobustScaler()"
   ]
  },
  {
   "cell_type": "code",
   "execution_count": 18,
   "id": "c9a7b54d-87fb-43ca-ba14-593a0b4c174e",
   "metadata": {
    "tags": []
   },
   "outputs": [],
   "source": [
    "# Create a categorical features encoder:\n",
    "one_hot_encoder_cols = cat_cols[:]\n",
    "one_hot_encoder = OneHotEncoder(sparse_output=False, handle_unknown=\"ignore\")"
   ]
  },
  {
   "cell_type": "code",
   "execution_count": 19,
   "id": "5cc8a643-2805-4f7f-9bf8-276451ab99f8",
   "metadata": {
    "tags": []
   },
   "outputs": [],
   "source": [
    "# Create a column transformer:\n",
    "transformer = ColumnTransformer(\n",
    "    transformers=[\n",
    "        (\"log_transformer\", log_transformer, log_transformer_cols),\n",
    "        (\"robust_scaler\", robust_scaler, robust_scaler_cols),\n",
    "        (\"one_hot_encoder\", one_hot_encoder, one_hot_encoder_cols)\n",
    "    ],\n",
    "    remainder=\"passthrough\"\n",
    ")"
   ]
  },
  {
   "cell_type": "code",
   "execution_count": 20,
   "id": "62773bc5-e407-4f0e-af9e-8aa9de368566",
   "metadata": {
    "tags": []
   },
   "outputs": [],
   "source": [
    "# Fit and transform X_train:\n",
    "X_train_transformed = transformer.fit_transform(X_train)"
   ]
  },
  {
   "cell_type": "code",
   "execution_count": 21,
   "id": "34c79cf4-7bbb-4036-9897-9bd373a60a34",
   "metadata": {
    "tags": []
   },
   "outputs": [],
   "source": [
    "# Transform X_test:\n",
    "X_test_transformed = transformer.transform(X_test)"
   ]
  },
  {
   "cell_type": "code",
   "execution_count": 22,
   "id": "1b8cb3ce-41c4-4c4c-a1c2-0e511c176089",
   "metadata": {
    "tags": []
   },
   "outputs": [
    {
     "data": {
      "text/html": [
       "<div>\n",
       "<style scoped>\n",
       "    .dataframe tbody tr th:only-of-type {\n",
       "        vertical-align: middle;\n",
       "    }\n",
       "\n",
       "    .dataframe tbody tr th {\n",
       "        vertical-align: top;\n",
       "    }\n",
       "\n",
       "    .dataframe thead th {\n",
       "        text-align: right;\n",
       "    }\n",
       "</style>\n",
       "<table border=\"1\" class=\"dataframe\">\n",
       "  <thead>\n",
       "    <tr style=\"text-align: right;\">\n",
       "      <th></th>\n",
       "      <th>0</th>\n",
       "      <th>1</th>\n",
       "      <th>2</th>\n",
       "      <th>3</th>\n",
       "      <th>4</th>\n",
       "      <th>5</th>\n",
       "      <th>6</th>\n",
       "      <th>7</th>\n",
       "      <th>8</th>\n",
       "      <th>9</th>\n",
       "      <th>10</th>\n",
       "      <th>11</th>\n",
       "      <th>12</th>\n",
       "      <th>13</th>\n",
       "      <th>14</th>\n",
       "    </tr>\n",
       "  </thead>\n",
       "  <tbody>\n",
       "    <tr>\n",
       "      <th>min</th>\n",
       "      <td>4.738914</td>\n",
       "      <td>3.483085</td>\n",
       "      <td>0.693147</td>\n",
       "      <td>1.098612</td>\n",
       "      <td>-0.693347</td>\n",
       "      <td>-1.539474</td>\n",
       "      <td>-0.449735</td>\n",
       "      <td>-1.473684</td>\n",
       "      <td>-1.250292</td>\n",
       "      <td>-1.231257</td>\n",
       "      <td>-1.398664</td>\n",
       "      <td>0.000000</td>\n",
       "      <td>0.000000</td>\n",
       "      <td>0.000000</td>\n",
       "      <td>0.000000</td>\n",
       "    </tr>\n",
       "    <tr>\n",
       "      <th>mean</th>\n",
       "      <td>4.783876</td>\n",
       "      <td>3.571904</td>\n",
       "      <td>7.634106</td>\n",
       "      <td>7.028312</td>\n",
       "      <td>1.246010</td>\n",
       "      <td>-0.285183</td>\n",
       "      <td>0.367008</td>\n",
       "      <td>-0.024338</td>\n",
       "      <td>0.302677</td>\n",
       "      <td>0.280524</td>\n",
       "      <td>0.156380</td>\n",
       "      <td>0.444268</td>\n",
       "      <td>0.316528</td>\n",
       "      <td>0.112911</td>\n",
       "      <td>0.126293</td>\n",
       "    </tr>\n",
       "    <tr>\n",
       "      <th>max</th>\n",
       "      <td>4.823100</td>\n",
       "      <td>3.736478</td>\n",
       "      <td>10.579489</td>\n",
       "      <td>10.482402</td>\n",
       "      <td>2.708057</td>\n",
       "      <td>1.102632</td>\n",
       "      <td>2.034392</td>\n",
       "      <td>1.210526</td>\n",
       "      <td>21.742690</td>\n",
       "      <td>36.444562</td>\n",
       "      <td>5.283456</td>\n",
       "      <td>1.000000</td>\n",
       "      <td>1.000000</td>\n",
       "      <td>1.000000</td>\n",
       "      <td>1.000000</td>\n",
       "    </tr>\n",
       "  </tbody>\n",
       "</table>\n",
       "</div>"
      ],
      "text/plain": [
       "            0         1          2          3         4         5         6    \n",
       "min   4.738914  3.483085   0.693147   1.098612 -0.693347 -1.539474 -0.449735  \\\n",
       "mean  4.783876  3.571904   7.634106   7.028312  1.246010 -0.285183  0.367008   \n",
       "max   4.823100  3.736478  10.579489  10.482402  2.708057  1.102632  2.034392   \n",
       "\n",
       "            7          8          9         10        11        12        13   \n",
       "min  -1.473684  -1.250292  -1.231257 -1.398664  0.000000  0.000000  0.000000  \\\n",
       "mean -0.024338   0.302677   0.280524  0.156380  0.444268  0.316528  0.112911   \n",
       "max   1.210526  21.742690  36.444562  5.283456  1.000000  1.000000  1.000000   \n",
       "\n",
       "            14  \n",
       "min   0.000000  \n",
       "mean  0.126293  \n",
       "max   1.000000  "
      ]
     },
     "execution_count": 22,
     "metadata": {},
     "output_type": "execute_result"
    }
   ],
   "source": [
    "# Explore the min, mean & max of X_test_transformed:\n",
    "summary_stats = np.array([\n",
    "    X_train_transformed.min(axis=0),\n",
    "    X_train_transformed.mean(axis=0),\n",
    "    X_train_transformed.max(axis=0)\n",
    "])\n",
    "\n",
    "summary_stats = pd.DataFrame(data=summary_stats, index=[\"min\", \"mean\", \"max\"])\n",
    "summary_stats"
   ]
  },
  {
   "cell_type": "code",
   "execution_count": 23,
   "id": "c5fdd58a-6c3b-4e98-bab4-162d0992ce55",
   "metadata": {
    "tags": []
   },
   "outputs": [
    {
     "data": {
      "image/png": "[encoded data removed]",
      "text/plain": [
       "<Figure size 640x480 with 1 Axes>"
      ]
     },
     "metadata": {},
     "output_type": "display_data"
    }
   ],
   "source": [
    "# Plot the distribution of X_test_transformed:\n",
    "summary_stats.plot.box();"
   ]
  },
  {
   "cell_type": "markdown",
   "id": "a5d68c57-1643-4074-94be-1b9191a1d619",
   "metadata": {},
   "source": [
    "## Step #04: Saving Results"
   ]
  },
  {
   "cell_type": "code",
   "execution_count": 24,
   "id": "97d4615c-5ba7-4163-abf0-ade0d20ddf59",
   "metadata": {
    "tags": []
   },
   "outputs": [],
   "source": [
    "# Create a dictionary to hold the results:\n",
    "preprocessing_results = {\n",
    "    \"X_train_transformed\": X_train_transformed,\n",
    "    \"X_test_transformed\": X_test_transformed,\n",
    "    \"y_train\": y_train,\n",
    "    \"y_test\": y_test\n",
    "}"
   ]
  },
  {
   "cell_type": "code",
   "execution_count": 25,
   "id": "d6399796-c0c0-41f6-b216-af6f44ece6c8",
   "metadata": {
    "tags": []
   },
   "outputs": [],
   "source": [
    "# Pickle the results:\n",
    "with open(\"./assets/preprocessing_results.pkl\", mode=\"wb\") as file_bin:\n",
    "    pickle.dump(preprocessing_results, file_bin)"
   ]
  },
  {
   "cell_type": "code",
   "execution_count": null,
   "id": "91bd4613-b0fe-48f4-9f0b-fabaa9887963",
   "metadata": {},
   "outputs": [],
   "source": []
  }
 ],
 "metadata": {
  "kernelspec": {
   "display_name": "Data-Playground",
   "language": "python",
   "name": "data-playground"
  },
  "language_info": {
   "codemirror_mode": {
    "name": "ipython",
    "version": 3
   },
   "file_extension": ".py",
   "mimetype": "text/x-python",
   "name": "python",
   "nbconvert_exporter": "python",
   "pygments_lexer": "ipython3",
   "version": "3.11.3"
  }
 },
 "nbformat": 4,
 "nbformat_minor": 5
}
